{
 "cells": [
  {
   "cell_type": "markdown",
   "metadata": {},
   "source": [
    "# ***Optuna - Final Project - Applied Statistics***\n",
    "\n",
    "**Omer Shadmi (327722575) & Inbar Fabian (328274212)**\n"
   ]
  },
  {
   "cell_type": "markdown",
   "metadata": {},
   "source": [
    "---------------------"
   ]
  },
  {
   "cell_type": "markdown",
   "metadata": {},
   "source": [
    "## **K-means Clustering**\n"
   ]
  },
  {
   "cell_type": "markdown",
   "metadata": {},
   "source": [
    "### <u>Importing the data:</u>"
   ]
  },
  {
   "cell_type": "code",
   "execution_count": 34,
   "metadata": {
    "vscode": {
     "languageId": "shellscript"
    }
   },
   "outputs": [],
   "source": [
    "# Import necessary libraries\n",
    "import pandas as pd\n",
    "import numpy as np\n",
    "import matplotlib.pyplot as plt\n",
    "import seaborn as sns\n",
    "from sklearn.cluster import KMeans\n",
    "from sklearn.preprocessing import StandardScaler\n",
    "from sklearn.metrics import silhouette_score\n",
    "from sklearn.metrics import silhouette_samples\n",
    "import optuna"
   ]
  },
  {
   "cell_type": "code",
   "execution_count": 35,
   "metadata": {
    "vscode": {
     "languageId": "shellscript"
    }
   },
   "outputs": [
    {
     "data": {
      "text/html": [
       "<div>\n",
       "<style scoped>\n",
       "    .dataframe tbody tr th:only-of-type {\n",
       "        vertical-align: middle;\n",
       "    }\n",
       "\n",
       "    .dataframe tbody tr th {\n",
       "        vertical-align: top;\n",
       "    }\n",
       "\n",
       "    .dataframe thead th {\n",
       "        text-align: right;\n",
       "    }\n",
       "</style>\n",
       "<table border=\"1\" class=\"dataframe\">\n",
       "  <thead>\n",
       "    <tr style=\"text-align: right;\">\n",
       "      <th></th>\n",
       "      <th>CustomerID</th>\n",
       "      <th>Gender</th>\n",
       "      <th>Age</th>\n",
       "      <th>Annual Income (k$)</th>\n",
       "      <th>Spending Score (1-100)</th>\n",
       "    </tr>\n",
       "  </thead>\n",
       "  <tbody>\n",
       "    <tr>\n",
       "      <th>0</th>\n",
       "      <td>1</td>\n",
       "      <td>Male</td>\n",
       "      <td>19</td>\n",
       "      <td>15</td>\n",
       "      <td>39</td>\n",
       "    </tr>\n",
       "    <tr>\n",
       "      <th>1</th>\n",
       "      <td>2</td>\n",
       "      <td>Male</td>\n",
       "      <td>21</td>\n",
       "      <td>15</td>\n",
       "      <td>81</td>\n",
       "    </tr>\n",
       "    <tr>\n",
       "      <th>2</th>\n",
       "      <td>3</td>\n",
       "      <td>Female</td>\n",
       "      <td>20</td>\n",
       "      <td>16</td>\n",
       "      <td>6</td>\n",
       "    </tr>\n",
       "    <tr>\n",
       "      <th>3</th>\n",
       "      <td>4</td>\n",
       "      <td>Female</td>\n",
       "      <td>23</td>\n",
       "      <td>16</td>\n",
       "      <td>77</td>\n",
       "    </tr>\n",
       "    <tr>\n",
       "      <th>4</th>\n",
       "      <td>5</td>\n",
       "      <td>Female</td>\n",
       "      <td>31</td>\n",
       "      <td>17</td>\n",
       "      <td>40</td>\n",
       "    </tr>\n",
       "  </tbody>\n",
       "</table>\n",
       "</div>"
      ],
      "text/plain": [
       "   CustomerID  Gender  Age  Annual Income (k$)  Spending Score (1-100)\n",
       "0           1    Male   19                  15                      39\n",
       "1           2    Male   21                  15                      81\n",
       "2           3  Female   20                  16                       6\n",
       "3           4  Female   23                  16                      77\n",
       "4           5  Female   31                  17                      40"
      ]
     },
     "execution_count": 35,
     "metadata": {},
     "output_type": "execute_result"
    }
   ],
   "source": [
    "# Load the data\n",
    "data = pd.read_csv('Mall_Customers.csv')\n",
    "\n",
    "# Display the first few rows\n",
    "data.head()"
   ]
  },
  {
   "cell_type": "code",
   "execution_count": 36,
   "metadata": {
    "vscode": {
     "languageId": "shellscript"
    }
   },
   "outputs": [
    {
     "name": "stdout",
     "output_type": "stream",
     "text": [
      "<class 'pandas.core.frame.DataFrame'>\n",
      "RangeIndex: 200 entries, 0 to 199\n",
      "Data columns (total 5 columns):\n",
      " #   Column                  Non-Null Count  Dtype \n",
      "---  ------                  --------------  ----- \n",
      " 0   CustomerID              200 non-null    int64 \n",
      " 1   Gender                  200 non-null    object\n",
      " 2   Age                     200 non-null    int64 \n",
      " 3   Annual Income (k$)      200 non-null    int64 \n",
      " 4   Spending Score (1-100)  200 non-null    int64 \n",
      "dtypes: int64(4), object(1)\n",
      "memory usage: 7.9+ KB\n"
     ]
    }
   ],
   "source": [
    "# Display some information about the data\n",
    "data.info()"
   ]
  },
  {
   "cell_type": "code",
   "execution_count": 37,
   "metadata": {
    "vscode": {
     "languageId": "shellscript"
    }
   },
   "outputs": [],
   "source": [
    "# Preprocess the data\n",
    "X = data[['Annual Income (k$)', 'Spending Score (1-100)']].values  # Choose relevant features\n",
    "scaler = StandardScaler()\n",
    "X_scaled = scaler.fit_transform(X)"
   ]
  },
  {
   "cell_type": "markdown",
   "metadata": {},
   "source": [
    "### <u>Initial K-means clustering:</u>"
   ]
  },
  {
   "cell_type": "markdown",
   "metadata": {},
   "source": [
    "First, we will apply the initial K-means, with n_clusters of 3."
   ]
  },
  {
   "cell_type": "code",
   "execution_count": 38,
   "metadata": {
    "vscode": {
     "languageId": "shellscript"
    }
   },
   "outputs": [],
   "source": [
    "# Initial K-means clustering\n",
    "def kmeans_clustering(n_clusters):\n",
    "    kmeans = KMeans(n_clusters=n_clusters, random_state=42)\n",
    "    labels = kmeans.fit_predict(X_scaled)\n",
    "    silhouette_avg = silhouette_score(X_scaled, labels)\n",
    "    return kmeans, labels, silhouette_avg"
   ]
  },
  {
   "cell_type": "code",
   "execution_count": 39,
   "metadata": {
    "vscode": {
     "languageId": "shellscript"
    }
   },
   "outputs": [
    {
     "name": "stdout",
     "output_type": "stream",
     "text": [
      "Initial Silhouette Score: 0.4666\n"
     ]
    }
   ],
   "source": [
    "initial_n_clusters = 3\n",
    "initial_kmeans, initial_kmeans_labels, initial_kmeans_silhouette = kmeans_clustering(initial_n_clusters)\n",
    "\n",
    "print(f\"Initial Silhouette Score: {initial_kmeans_silhouette:.4f}\")"
   ]
  },
  {
   "cell_type": "markdown",
   "metadata": {},
   "source": [
    "Now, we define a function that will plot us the clustering & the silhouette of our clusters. "
   ]
  },
  {
   "cell_type": "code",
   "execution_count": 40,
   "metadata": {
    "vscode": {
     "languageId": "shellscript"
    }
   },
   "outputs": [],
   "source": [
    "def plot_silhouette(X, labels):\n",
    "    plt.figure(figsize=(12, 4))\n",
    "    \n",
    "    # Left subplot: scatter plot of clusters\n",
    "    plt.subplot(1, 2, 1)\n",
    "    plt.scatter(X[:, 0], X[:, 1], c=labels, cmap=\"viridis\", alpha=0.7)\n",
    "    plt.title(\"Cluster Visualization\")\n",
    "    plt.xlabel(\"Annual Income (k$)\")\n",
    "    plt.ylabel(\"Spending Score (1-100)\")\n",
    "\n",
    "    # Right subplot: silhouette plot\n",
    "    plt.subplot(1, 2, 2)\n",
    "    silhouettes = silhouette_samples(X, labels)\n",
    "    y_lower = 10\n",
    "    clusters = np.unique(labels)\n",
    "    \n",
    "    for idx, label in enumerate(clusters):\n",
    "        ith_cluster_silhouette_values = silhouettes[labels == label]\n",
    "        ith_cluster_silhouette_values.sort()\n",
    "        size_cluster_i = ith_cluster_silhouette_values.shape[0]\n",
    "        y_upper = y_lower + size_cluster_i\n",
    "\n",
    "        color = plt.cm.viridis(float(idx) / (clusters.size - 1))\n",
    "        plt.fill_betweenx(\n",
    "            np.arange(y_lower, y_upper),\n",
    "            0,\n",
    "            ith_cluster_silhouette_values,\n",
    "            facecolor=color,\n",
    "            edgecolor=color,\n",
    "            alpha=0.7\n",
    "        )\n",
    "        plt.text(-0.05, y_lower + 0.5 * size_cluster_i, f'{label}')\n",
    "        y_lower = y_upper + 10  # 10 for the 0 samples\n",
    "\n",
    "    plt.title(\"Silhouette for each Cluster\")\n",
    "    plt.xlabel(\"Silhouette Coefficient Values\")\n",
    "    plt.ylabel(\"Cluster label\")\n",
    "\n",
    "    sil_score = silhouettes.mean()\n",
    "    plt.axvline(x=sil_score, color=\"red\", linestyle=\"--\")\n",
    "\n",
    "    plt.yticks([])\n",
    "    plt.xticks([-1, 0, 1, sil_score])\n",
    "    plt.xlim([-1, 1])\n",
    "    plt.ylim([0, len(X) + (clusters.size + 1) * 10])\n",
    "    plt.show()"
   ]
  },
  {
   "cell_type": "markdown",
   "metadata": {},
   "source": [
    "<u>Plot + Silhouette for the Initial K-means (n_clusters=3):</u>"
   ]
  },
  {
   "cell_type": "code",
   "execution_count": 41,
   "metadata": {
    "vscode": {
     "languageId": "shellscript"
    }
   },
   "outputs": [
    {
     "data": {
      "image/png": "[encoded data removed]",
      "text/plain": [
       "<Figure size 1200x400 with 2 Axes>"
      ]
     },
     "metadata": {},
     "output_type": "display_data"
    }
   ],
   "source": [
    "plot_silhouette(X, initial_kmeans_labels)"
   ]
  },
  {
   "cell_type": "markdown",
   "metadata": {},
   "source": [
    "### <u>Optuna Optimization:</u>"
   ]
  },
  {
   "cell_type": "markdown",
   "metadata": {},
   "source": [
    "We will now use the Optuna tool in order to optimize the clustering. "
   ]
  },
  {
   "cell_type": "code",
   "execution_count": 42,
   "metadata": {
    "vscode": {
     "languageId": "shellscript"
    }
   },
   "outputs": [],
   "source": [
    "# Define Optuna objective function\n",
    "def kmeans_objective(trial):\n",
    "    n_clusters = trial.suggest_int('n_clusters', 2, 10)\n",
    "    kmeans = KMeans(n_clusters=n_clusters, random_state=42)\n",
    "    labels = kmeans.fit_predict(X_scaled)\n",
    "    silhouette_avg = silhouette_score(X_scaled, labels)\n",
    "    return silhouette_avg"
   ]
  },
  {
   "cell_type": "markdown",
   "metadata": {},
   "source": [
    "And apply the Optuna for 100 trials."
   ]
  },
  {
   "cell_type": "code",
   "execution_count": 43,
   "metadata": {
    "vscode": {
     "languageId": "shellscript"
    }
   },
   "outputs": [
    {
     "name": "stderr",
     "output_type": "stream",
     "text": [
      "[I 2024-09-08 18:42:19,781] A new study created in memory with name: no-name-0291e276-d131-4c84-80ed-4367b948f33f\n",
      "[I 2024-09-08 18:42:19,831] Trial 0 finished with value: 0.5138257534676561 and parameters: {'n_clusters': 6}. Best is trial 0 with value: 0.5138257534676561.\n",
      "[I 2024-09-08 18:42:19,851] Trial 1 finished with value: 0.4550112502601921 and parameters: {'n_clusters': 8}. Best is trial 0 with value: 0.5138257534676561.\n",
      "[I 2024-09-08 18:42:19,866] Trial 2 finished with value: 0.4566624374485964 and parameters: {'n_clusters': 9}. Best is trial 0 with value: 0.5138257534676561.\n",
      "[I 2024-09-08 18:42:19,882] Trial 3 finished with value: 0.4566624374485964 and parameters: {'n_clusters': 9}. Best is trial 0 with value: 0.5138257534676561.\n",
      "[I 2024-09-08 18:42:19,897] Trial 4 finished with value: 0.44475993501732874 and parameters: {'n_clusters': 10}. Best is trial 0 with value: 0.5138257534676561.\n",
      "[I 2024-09-08 18:42:19,910] Trial 5 finished with value: 0.5546571631111091 and parameters: {'n_clusters': 5}. Best is trial 5 with value: 0.5546571631111091.\n",
      "[I 2024-09-08 18:42:19,927] Trial 6 finished with value: 0.44475993501732874 and parameters: {'n_clusters': 10}. Best is trial 5 with value: 0.5546571631111091.\n",
      "[I 2024-09-08 18:42:19,940] Trial 7 finished with value: 0.50200146805547 and parameters: {'n_clusters': 7}. Best is trial 5 with value: 0.5546571631111091.\n",
      "[I 2024-09-08 18:42:19,956] Trial 8 finished with value: 0.4566624374485964 and parameters: {'n_clusters': 9}. Best is trial 5 with value: 0.5546571631111091.\n",
      "[I 2024-09-08 18:42:19,968] Trial 9 finished with value: 0.49434988482196784 and parameters: {'n_clusters': 4}. Best is trial 5 with value: 0.5546571631111091.\n",
      "[I 2024-09-08 18:42:19,997] Trial 10 finished with value: 0.3973270007887498 and parameters: {'n_clusters': 2}. Best is trial 5 with value: 0.5546571631111091.\n",
      "[I 2024-09-08 18:42:20,029] Trial 11 finished with value: 0.5546571631111091 and parameters: {'n_clusters': 5}. Best is trial 5 with value: 0.5546571631111091.\n",
      "[I 2024-09-08 18:42:20,057] Trial 12 finished with value: 0.5546571631111091 and parameters: {'n_clusters': 5}. Best is trial 5 with value: 0.5546571631111091.\n",
      "[I 2024-09-08 18:42:20,082] Trial 13 finished with value: 0.46658474419000145 and parameters: {'n_clusters': 3}. Best is trial 5 with value: 0.5546571631111091.\n",
      "[I 2024-09-08 18:42:20,109] Trial 14 finished with value: 0.5546571631111091 and parameters: {'n_clusters': 5}. Best is trial 5 with value: 0.5546571631111091.\n",
      "[I 2024-09-08 18:42:20,139] Trial 15 finished with value: 0.5138257534676561 and parameters: {'n_clusters': 6}. Best is trial 5 with value: 0.5546571631111091.\n",
      "[I 2024-09-08 18:42:20,159] Trial 16 finished with value: 0.49434988482196784 and parameters: {'n_clusters': 4}. Best is trial 5 with value: 0.5546571631111091.\n",
      "[I 2024-09-08 18:42:20,182] Trial 17 finished with value: 0.50200146805547 and parameters: {'n_clusters': 7}. Best is trial 5 with value: 0.5546571631111091.\n",
      "[I 2024-09-08 18:42:20,206] Trial 18 finished with value: 0.49434988482196784 and parameters: {'n_clusters': 4}. Best is trial 5 with value: 0.5546571631111091.\n",
      "[I 2024-09-08 18:42:20,226] Trial 19 finished with value: 0.3973270007887498 and parameters: {'n_clusters': 2}. Best is trial 5 with value: 0.5546571631111091.\n",
      "[I 2024-09-08 18:42:20,248] Trial 20 finished with value: 0.5546571631111091 and parameters: {'n_clusters': 5}. Best is trial 5 with value: 0.5546571631111091.\n",
      "[I 2024-09-08 18:42:20,275] Trial 21 finished with value: 0.5546571631111091 and parameters: {'n_clusters': 5}. Best is trial 5 with value: 0.5546571631111091.\n",
      "[I 2024-09-08 18:42:20,296] Trial 22 finished with value: 0.5546571631111091 and parameters: {'n_clusters': 5}. Best is trial 5 with value: 0.5546571631111091.\n",
      "[I 2024-09-08 18:42:20,321] Trial 23 finished with value: 0.46658474419000145 and parameters: {'n_clusters': 3}. Best is trial 5 with value: 0.5546571631111091.\n",
      "[I 2024-09-08 18:42:20,346] Trial 24 finished with value: 0.50200146805547 and parameters: {'n_clusters': 7}. Best is trial 5 with value: 0.5546571631111091.\n",
      "[I 2024-09-08 18:42:20,378] Trial 25 finished with value: 0.5138257534676561 and parameters: {'n_clusters': 6}. Best is trial 5 with value: 0.5546571631111091.\n",
      "[I 2024-09-08 18:42:20,415] Trial 26 finished with value: 0.46658474419000145 and parameters: {'n_clusters': 3}. Best is trial 5 with value: 0.5546571631111091.\n",
      "[I 2024-09-08 18:42:20,491] Trial 27 finished with value: 0.49434988482196784 and parameters: {'n_clusters': 4}. Best is trial 5 with value: 0.5546571631111091.\n",
      "[I 2024-09-08 18:42:20,571] Trial 28 finished with value: 0.5546571631111091 and parameters: {'n_clusters': 5}. Best is trial 5 with value: 0.5546571631111091.\n",
      "[I 2024-09-08 18:42:20,608] Trial 29 finished with value: 0.5138257534676561 and parameters: {'n_clusters': 6}. Best is trial 5 with value: 0.5546571631111091.\n",
      "[I 2024-09-08 18:42:20,645] Trial 30 finished with value: 0.5138257534676561 and parameters: {'n_clusters': 6}. Best is trial 5 with value: 0.5546571631111091.\n",
      "[I 2024-09-08 18:42:20,731] Trial 31 finished with value: 0.5546571631111091 and parameters: {'n_clusters': 5}. Best is trial 5 with value: 0.5546571631111091.\n",
      "[I 2024-09-08 18:42:20,788] Trial 32 finished with value: 0.5546571631111091 and parameters: {'n_clusters': 5}. Best is trial 5 with value: 0.5546571631111091.\n",
      "[I 2024-09-08 18:42:20,850] Trial 33 finished with value: 0.49434988482196784 and parameters: {'n_clusters': 4}. Best is trial 5 with value: 0.5546571631111091.\n",
      "[I 2024-09-08 18:42:20,887] Trial 34 finished with value: 0.50200146805547 and parameters: {'n_clusters': 7}. Best is trial 5 with value: 0.5546571631111091.\n",
      "[I 2024-09-08 18:42:20,928] Trial 35 finished with value: 0.5138257534676561 and parameters: {'n_clusters': 6}. Best is trial 5 with value: 0.5546571631111091.\n",
      "[I 2024-09-08 18:42:20,981] Trial 36 finished with value: 0.5546571631111091 and parameters: {'n_clusters': 5}. Best is trial 5 with value: 0.5546571631111091.\n",
      "[I 2024-09-08 18:42:21,033] Trial 37 finished with value: 0.4550112502601921 and parameters: {'n_clusters': 8}. Best is trial 5 with value: 0.5546571631111091.\n",
      "[I 2024-09-08 18:42:21,098] Trial 38 finished with value: 0.49434988482196784 and parameters: {'n_clusters': 4}. Best is trial 5 with value: 0.5546571631111091.\n",
      "[I 2024-09-08 18:42:21,144] Trial 39 finished with value: 0.46658474419000145 and parameters: {'n_clusters': 3}. Best is trial 5 with value: 0.5546571631111091.\n",
      "[I 2024-09-08 18:42:21,181] Trial 40 finished with value: 0.4550112502601921 and parameters: {'n_clusters': 8}. Best is trial 5 with value: 0.5546571631111091.\n",
      "[I 2024-09-08 18:42:21,209] Trial 41 finished with value: 0.5546571631111091 and parameters: {'n_clusters': 5}. Best is trial 5 with value: 0.5546571631111091.\n",
      "[I 2024-09-08 18:42:21,233] Trial 42 finished with value: 0.5546571631111091 and parameters: {'n_clusters': 5}. Best is trial 5 with value: 0.5546571631111091.\n",
      "[I 2024-09-08 18:42:21,271] Trial 43 finished with value: 0.5138257534676561 and parameters: {'n_clusters': 6}. Best is trial 5 with value: 0.5546571631111091.\n",
      "[I 2024-09-08 18:42:21,320] Trial 44 finished with value: 0.49434988482196784 and parameters: {'n_clusters': 4}. Best is trial 5 with value: 0.5546571631111091.\n",
      "[I 2024-09-08 18:42:21,380] Trial 45 finished with value: 0.5546571631111091 and parameters: {'n_clusters': 5}. Best is trial 5 with value: 0.5546571631111091.\n",
      "[I 2024-09-08 18:42:21,431] Trial 46 finished with value: 0.5138257534676561 and parameters: {'n_clusters': 6}. Best is trial 5 with value: 0.5546571631111091.\n",
      "[I 2024-09-08 18:42:21,487] Trial 47 finished with value: 0.49434988482196784 and parameters: {'n_clusters': 4}. Best is trial 5 with value: 0.5546571631111091.\n",
      "[I 2024-09-08 18:42:21,521] Trial 48 finished with value: 0.5138257534676561 and parameters: {'n_clusters': 6}. Best is trial 5 with value: 0.5546571631111091.\n",
      "[I 2024-09-08 18:42:21,567] Trial 49 finished with value: 0.5546571631111091 and parameters: {'n_clusters': 5}. Best is trial 5 with value: 0.5546571631111091.\n",
      "[I 2024-09-08 18:42:21,617] Trial 50 finished with value: 0.49434988482196784 and parameters: {'n_clusters': 4}. Best is trial 5 with value: 0.5546571631111091.\n",
      "[I 2024-09-08 18:42:21,644] Trial 51 finished with value: 0.5546571631111091 and parameters: {'n_clusters': 5}. Best is trial 5 with value: 0.5546571631111091.\n",
      "[I 2024-09-08 18:42:21,671] Trial 52 finished with value: 0.5546571631111091 and parameters: {'n_clusters': 5}. Best is trial 5 with value: 0.5546571631111091.\n",
      "[I 2024-09-08 18:42:21,695] Trial 53 finished with value: 0.5138257534676561 and parameters: {'n_clusters': 6}. Best is trial 5 with value: 0.5546571631111091.\n",
      "[I 2024-09-08 18:42:21,722] Trial 54 finished with value: 0.5546571631111091 and parameters: {'n_clusters': 5}. Best is trial 5 with value: 0.5546571631111091.\n",
      "[I 2024-09-08 18:42:21,754] Trial 55 finished with value: 0.49434988482196784 and parameters: {'n_clusters': 4}. Best is trial 5 with value: 0.5546571631111091.\n",
      "[I 2024-09-08 18:42:21,779] Trial 56 finished with value: 0.50200146805547 and parameters: {'n_clusters': 7}. Best is trial 5 with value: 0.5546571631111091.\n",
      "[I 2024-09-08 18:42:21,802] Trial 57 finished with value: 0.46658474419000145 and parameters: {'n_clusters': 3}. Best is trial 5 with value: 0.5546571631111091.\n",
      "[I 2024-09-08 18:42:21,830] Trial 58 finished with value: 0.49434988482196784 and parameters: {'n_clusters': 4}. Best is trial 5 with value: 0.5546571631111091.\n",
      "[I 2024-09-08 18:42:21,855] Trial 59 finished with value: 0.50200146805547 and parameters: {'n_clusters': 7}. Best is trial 5 with value: 0.5546571631111091.\n",
      "[I 2024-09-08 18:42:21,886] Trial 60 finished with value: 0.5138257534676561 and parameters: {'n_clusters': 6}. Best is trial 5 with value: 0.5546571631111091.\n",
      "[I 2024-09-08 18:42:21,918] Trial 61 finished with value: 0.5546571631111091 and parameters: {'n_clusters': 5}. Best is trial 5 with value: 0.5546571631111091.\n",
      "[I 2024-09-08 18:42:21,942] Trial 62 finished with value: 0.5546571631111091 and parameters: {'n_clusters': 5}. Best is trial 5 with value: 0.5546571631111091.\n",
      "[I 2024-09-08 18:42:21,967] Trial 63 finished with value: 0.5546571631111091 and parameters: {'n_clusters': 5}. Best is trial 5 with value: 0.5546571631111091.\n",
      "[I 2024-09-08 18:42:21,993] Trial 64 finished with value: 0.5138257534676561 and parameters: {'n_clusters': 6}. Best is trial 5 with value: 0.5546571631111091.\n",
      "[I 2024-09-08 18:42:22,031] Trial 65 finished with value: 0.49434988482196784 and parameters: {'n_clusters': 4}. Best is trial 5 with value: 0.5546571631111091.\n",
      "[I 2024-09-08 18:42:22,079] Trial 66 finished with value: 0.5546571631111091 and parameters: {'n_clusters': 5}. Best is trial 5 with value: 0.5546571631111091.\n",
      "[I 2024-09-08 18:42:22,132] Trial 67 finished with value: 0.5138257534676561 and parameters: {'n_clusters': 6}. Best is trial 5 with value: 0.5546571631111091.\n",
      "[I 2024-09-08 18:42:22,181] Trial 68 finished with value: 0.5546571631111091 and parameters: {'n_clusters': 5}. Best is trial 5 with value: 0.5546571631111091.\n",
      "[I 2024-09-08 18:42:22,225] Trial 69 finished with value: 0.5546571631111091 and parameters: {'n_clusters': 5}. Best is trial 5 with value: 0.5546571631111091.\n",
      "[I 2024-09-08 18:42:22,265] Trial 70 finished with value: 0.49434988482196784 and parameters: {'n_clusters': 4}. Best is trial 5 with value: 0.5546571631111091.\n",
      "[I 2024-09-08 18:42:22,313] Trial 71 finished with value: 0.5546571631111091 and parameters: {'n_clusters': 5}. Best is trial 5 with value: 0.5546571631111091.\n",
      "[I 2024-09-08 18:42:22,357] Trial 72 finished with value: 0.5546571631111091 and parameters: {'n_clusters': 5}. Best is trial 5 with value: 0.5546571631111091.\n",
      "[I 2024-09-08 18:42:22,408] Trial 73 finished with value: 0.5546571631111091 and parameters: {'n_clusters': 5}. Best is trial 5 with value: 0.5546571631111091.\n",
      "[I 2024-09-08 18:42:22,451] Trial 74 finished with value: 0.44475993501732874 and parameters: {'n_clusters': 10}. Best is trial 5 with value: 0.5546571631111091.\n",
      "[I 2024-09-08 18:42:22,514] Trial 75 finished with value: 0.5138257534676561 and parameters: {'n_clusters': 6}. Best is trial 5 with value: 0.5546571631111091.\n",
      "[I 2024-09-08 18:42:22,560] Trial 76 finished with value: 0.49434988482196784 and parameters: {'n_clusters': 4}. Best is trial 5 with value: 0.5546571631111091.\n",
      "[I 2024-09-08 18:42:22,602] Trial 77 finished with value: 0.5138257534676561 and parameters: {'n_clusters': 6}. Best is trial 5 with value: 0.5546571631111091.\n",
      "[I 2024-09-08 18:42:22,649] Trial 78 finished with value: 0.49434988482196784 and parameters: {'n_clusters': 4}. Best is trial 5 with value: 0.5546571631111091.\n",
      "[I 2024-09-08 18:42:22,696] Trial 79 finished with value: 0.5546571631111091 and parameters: {'n_clusters': 5}. Best is trial 5 with value: 0.5546571631111091.\n",
      "[I 2024-09-08 18:42:22,740] Trial 80 finished with value: 0.5546571631111091 and parameters: {'n_clusters': 5}. Best is trial 5 with value: 0.5546571631111091.\n",
      "[I 2024-09-08 18:42:22,789] Trial 81 finished with value: 0.5546571631111091 and parameters: {'n_clusters': 5}. Best is trial 5 with value: 0.5546571631111091.\n",
      "[I 2024-09-08 18:42:22,849] Trial 82 finished with value: 0.5138257534676561 and parameters: {'n_clusters': 6}. Best is trial 5 with value: 0.5546571631111091.\n",
      "[I 2024-09-08 18:42:22,900] Trial 83 finished with value: 0.5546571631111091 and parameters: {'n_clusters': 5}. Best is trial 5 with value: 0.5546571631111091.\n",
      "[I 2024-09-08 18:42:22,955] Trial 84 finished with value: 0.5546571631111091 and parameters: {'n_clusters': 5}. Best is trial 5 with value: 0.5546571631111091.\n",
      "[I 2024-09-08 18:42:23,002] Trial 85 finished with value: 0.5546571631111091 and parameters: {'n_clusters': 5}. Best is trial 5 with value: 0.5546571631111091.\n",
      "[I 2024-09-08 18:42:23,054] Trial 86 finished with value: 0.49434988482196784 and parameters: {'n_clusters': 4}. Best is trial 5 with value: 0.5546571631111091.\n",
      "[I 2024-09-08 18:42:23,088] Trial 87 finished with value: 0.46658474419000145 and parameters: {'n_clusters': 3}. Best is trial 5 with value: 0.5546571631111091.\n",
      "[I 2024-09-08 18:42:23,123] Trial 88 finished with value: 0.5138257534676561 and parameters: {'n_clusters': 6}. Best is trial 5 with value: 0.5546571631111091.\n",
      "[I 2024-09-08 18:42:23,152] Trial 89 finished with value: 0.49434988482196784 and parameters: {'n_clusters': 4}. Best is trial 5 with value: 0.5546571631111091.\n",
      "[I 2024-09-08 18:42:23,176] Trial 90 finished with value: 0.5546571631111091 and parameters: {'n_clusters': 5}. Best is trial 5 with value: 0.5546571631111091.\n",
      "[I 2024-09-08 18:42:23,200] Trial 91 finished with value: 0.5546571631111091 and parameters: {'n_clusters': 5}. Best is trial 5 with value: 0.5546571631111091.\n",
      "[I 2024-09-08 18:42:23,225] Trial 92 finished with value: 0.5546571631111091 and parameters: {'n_clusters': 5}. Best is trial 5 with value: 0.5546571631111091.\n",
      "[I 2024-09-08 18:42:23,248] Trial 93 finished with value: 0.5138257534676561 and parameters: {'n_clusters': 6}. Best is trial 5 with value: 0.5546571631111091.\n",
      "[I 2024-09-08 18:42:23,275] Trial 94 finished with value: 0.5546571631111091 and parameters: {'n_clusters': 5}. Best is trial 5 with value: 0.5546571631111091.\n",
      "[I 2024-09-08 18:42:23,304] Trial 95 finished with value: 0.49434988482196784 and parameters: {'n_clusters': 4}. Best is trial 5 with value: 0.5546571631111091.\n",
      "[I 2024-09-08 18:42:23,328] Trial 96 finished with value: 0.5546571631111091 and parameters: {'n_clusters': 5}. Best is trial 5 with value: 0.5546571631111091.\n",
      "[I 2024-09-08 18:42:23,352] Trial 97 finished with value: 0.5138257534676561 and parameters: {'n_clusters': 6}. Best is trial 5 with value: 0.5546571631111091.\n",
      "[I 2024-09-08 18:42:23,378] Trial 98 finished with value: 0.5546571631111091 and parameters: {'n_clusters': 5}. Best is trial 5 with value: 0.5546571631111091.\n",
      "[I 2024-09-08 18:42:23,407] Trial 99 finished with value: 0.49434988482196784 and parameters: {'n_clusters': 4}. Best is trial 5 with value: 0.5546571631111091.\n"
     ]
    }
   ],
   "source": [
    "# Optimize using Optuna\n",
    "kmeans_study = optuna.create_study(direction='maximize')\n",
    "kmeans_study.optimize(kmeans_objective, n_trials=100)"
   ]
  },
  {
   "cell_type": "markdown",
   "metadata": {},
   "source": [
    "<u>The optimized results we got are:</u>"
   ]
  },
  {
   "cell_type": "code",
   "execution_count": 44,
   "metadata": {
    "vscode": {
     "languageId": "shellscript"
    }
   },
   "outputs": [
    {
     "name": "stdout",
     "output_type": "stream",
     "text": [
      "Best trial:\n",
      "  Value: 0.5547\n",
      "  Params: \n",
      "    n_clusters: 5\n"
     ]
    }
   ],
   "source": [
    "print(\"Best trial:\")\n",
    "kmeans_trial = kmeans_study.best_trial\n",
    "print(f\"  Value: {kmeans_trial.value:.4f}\")\n",
    "print(\"  Params: \")\n",
    "for key, value in kmeans_trial.params.items():\n",
    "    print(f\"    {key}: {value}\")"
   ]
  },
  {
   "cell_type": "markdown",
   "metadata": {},
   "source": [
    "We apply this Optuna-optimized K-means."
   ]
  },
  {
   "cell_type": "code",
   "execution_count": 45,
   "metadata": {
    "vscode": {
     "languageId": "shellscript"
    }
   },
   "outputs": [
    {
     "name": "stdout",
     "output_type": "stream",
     "text": [
      "Optimized Silhouette Score: 0.5547\n"
     ]
    }
   ],
   "source": [
    "# Apply optimized K-means\n",
    "optimized_n_clusters = kmeans_trial.params['n_clusters']\n",
    "optimized_kmeans, optimized_kmeans_labels, optimized_kmeans_silhouette = kmeans_clustering(optimized_n_clusters)\n",
    "\n",
    "print(f\"Optimized Silhouette Score: {optimized_kmeans_silhouette:.4f}\")"
   ]
  },
  {
   "cell_type": "markdown",
   "metadata": {},
   "source": [
    "<u>Plot + Silhouette for Optimized K-means:</u>"
   ]
  },
  {
   "cell_type": "code",
   "execution_count": 46,
   "metadata": {
    "vscode": {
     "languageId": "shellscript"
    }
   },
   "outputs": [
    {
     "data": {
      "image/png": "[encoded data removed]",
      "text/plain": [
       "<Figure size 1200x400 with 2 Axes>"
      ]
     },
     "metadata": {},
     "output_type": "display_data"
    },
    {
     "name": "stdout",
     "output_type": "stream",
     "text": [
      "Initial Silhouette Score: 0.4666\n",
      "Optimized Silhouette Score: 0.5547\n",
      "Improvement: 18.88%\n"
     ]
    }
   ],
   "source": [
    "plot_silhouette(X, optimized_kmeans_labels)\n",
    "\n",
    "# Compare initial and optimized results\n",
    "print(f\"Initial Silhouette Score: {initial_kmeans_silhouette:.4f}\")\n",
    "print(f\"Optimized Silhouette Score: {optimized_kmeans_silhouette:.4f}\")\n",
    "print(f\"Improvement: {(optimized_kmeans_silhouette - initial_kmeans_silhouette) / initial_kmeans_silhouette * 100:.2f}%\")"
   ]
  },
  {
   "cell_type": "markdown",
   "metadata": {},
   "source": [
    "### <u>Conclusion:</u> "
   ]
  },
  {
   "cell_type": "markdown",
   "metadata": {},
   "source": [
    "A conclusion for our K-means clustering model's optimization process using Optuna."
   ]
  },
  {
   "cell_type": "code",
   "execution_count": 47,
   "metadata": {
    "vscode": {
     "languageId": "shellscript"
    }
   },
   "outputs": [
    {
     "name": "stdout",
     "output_type": "stream",
     "text": [
      "Conclusion:\n",
      "The initial K-means clustering with 3 clusters achieved a silhouette score of 0.4666.\n",
      "After optimization with Optuna, the best number of clusters was found to be 5, achieving a silhouette score of 0.5547.\n",
      "This represents an improvement of 18.88% in the silhouette score.\n"
     ]
    }
   ],
   "source": [
    "# Conclusion\n",
    "print(\"Conclusion:\")\n",
    "print(f\"The initial K-means clustering with {initial_n_clusters} clusters achieved a silhouette score of {initial_kmeans_silhouette:.4f}.\")\n",
    "print(f\"After optimization with Optuna, the best number of clusters was found to be {optimized_n_clusters}, achieving a silhouette score of {optimized_kmeans_silhouette:.4f}.\")\n",
    "print(f\"This represents an improvement of {(optimized_kmeans_silhouette - initial_kmeans_silhouette) / initial_kmeans_silhouette * 100:.2f}% in the silhouette score.\")"
   ]
  },
  {
   "cell_type": "markdown",
   "metadata": {},
   "source": [
    "### <u>Visualizations:</u>"
   ]
  },
  {
   "cell_type": "markdown",
   "metadata": {},
   "source": [
    "Let's visualize some of our results. "
   ]
  },
  {
   "cell_type": "code",
   "execution_count": 48,
   "metadata": {
    "vscode": {
     "languageId": "shellscript"
    }
   },
   "outputs": [],
   "source": [
    "# Import additional visualization libraries\n",
    "from optuna.visualization import plot_contour\n",
    "from optuna.visualization import plot_optimization_history\n",
    "from optuna.visualization import plot_param_importances\n",
    "from optuna.visualization import plot_parallel_coordinate"
   ]
  },
  {
   "cell_type": "code",
   "execution_count": 49,
   "metadata": {
    "vscode": {
     "languageId": "shellscript"
    }
   },
   "outputs": [
    {
     "data": {
      "application/vnd.plotly.v1+json": {
       "config": {
        "plotlyServerURL": "https://plot.ly"
       },
       "data": [
        {
         "mode": "markers",
         "name": "Objective Value",
         "type": "scatter",
         "x": [
          0,
          1,
          2,
          3,
          4,
          5,
          6,
          7,
          8,
          9,
          10,
          11,
          12,
          13,
          14,
          15,
          16,
          17,
          18,
          19,
          20,
          21,
          22,
          23,
          24,
          25,
          26,
          27,
          28,
          29,
          30,
          31,
          32,
          33,
          34,
          35,
          36,
          37,
          38,
          39,
          40,
          41,
          42,
          43,
          44,
          45,
          46,
          47,
          48,
          49,
          50,
          51,
          52,
          53,
          54,
          55,
          56,
          57,
          58,
          59,
          60,
          61,
          62,
          63,
          64,
          65,
          66,
          67,
          68,
          69,
          70,
          71,
          72,
          73,
          74,
          75,
          76,
          77,
          78,
          79,
          80,
          81,
          82,
          83,
          84,
          85,
          86,
          87,
          88,
          89,
          90,
          91,
          92,
          93,
          94,
          95,
          96,
          97,
          98,
          99
         ],
         "y": [
          0.5138257534676561,
          0.4550112502601921,
          0.4566624374485964,
          0.4566624374485964,
          0.44475993501732874,
          0.5546571631111091,
          0.44475993501732874,
          0.50200146805547,
          0.4566624374485964,
          0.49434988482196784,
          0.3973270007887498,
          0.5546571631111091,
          0.5546571631111091,
          0.46658474419000145,
          0.5546571631111091,
          0.5138257534676561,
          0.49434988482196784,
          0.50200146805547,
          0.49434988482196784,
          0.3973270007887498,
          0.5546571631111091,
          0.5546571631111091,
          0.5546571631111091,
          0.46658474419000145,
          0.50200146805547,
          0.5138257534676561,
          0.46658474419000145,
          0.49434988482196784,
          0.5546571631111091,
          0.5138257534676561,
          0.5138257534676561,
          0.5546571631111091,
          0.5546571631111091,
          0.49434988482196784,
          0.50200146805547,
          0.5138257534676561,
          0.5546571631111091,
          0.4550112502601921,
          0.49434988482196784,
          0.46658474419000145,
          0.4550112502601921,
          0.5546571631111091,
          0.5546571631111091,
          0.5138257534676561,
          0.49434988482196784,
          0.5546571631111091,
          0.5138257534676561,
          0.49434988482196784,
          0.5138257534676561,
          0.5546571631111091,
          0.49434988482196784,
          0.5546571631111091,
          0.5546571631111091,
          0.5138257534676561,
          0.5546571631111091,
          0.49434988482196784,
          0.50200146805547,
          0.46658474419000145,
          0.49434988482196784,
          0.50200146805547,
          0.5138257534676561,
          0.5546571631111091,
          0.5546571631111091,
          0.5546571631111091,
          0.5138257534676561,
          0.49434988482196784,
          0.5546571631111091,
          0.5138257534676561,
          0.5546571631111091,
          0.5546571631111091,
          0.49434988482196784,
          0.5546571631111091,
          0.5546571631111091,
          0.5546571631111091,
          0.44475993501732874,
          0.5138257534676561,
          0.49434988482196784,
          0.5138257534676561,
          0.49434988482196784,
          0.5546571631111091,
          0.5546571631111091,
          0.5546571631111091,
          0.5138257534676561,
          0.5546571631111091,
          0.5546571631111091,
          0.5546571631111091,
          0.49434988482196784,
          0.46658474419000145,
          0.5138257534676561,
          0.49434988482196784,
          0.5546571631111091,
          0.5546571631111091,
          0.5546571631111091,
          0.5138257534676561,
          0.5546571631111091,
          0.49434988482196784,
          0.5546571631111091,
          0.5138257534676561,
          0.5546571631111091,
          0.49434988482196784
         ]
        },
        {
         "mode": "lines",
         "name": "Best Value",
         "type": "scatter",
         "x": [
          0,
          1,
          2,
          3,
          4,
          5,
          6,
          7,
          8,
          9,
          10,
          11,
          12,
          13,
          14,
          15,
          16,
          17,
          18,
          19,
          20,
          21,
          22,
          23,
          24,
          25,
          26,
          27,
          28,
          29,
          30,
          31,
          32,
          33,
          34,
          35,
          36,
          37,
          38,
          39,
          40,
          41,
          42,
          43,
          44,
          45,
          46,
          47,
          48,
          49,
          50,
          51,
          52,
          53,
          54,
          55,
          56,
          57,
          58,
          59,
          60,
          61,
          62,
          63,
          64,
          65,
          66,
          67,
          68,
          69,
          70,
          71,
          72,
          73,
          74,
          75,
          76,
          77,
          78,
          79,
          80,
          81,
          82,
          83,
          84,
          85,
          86,
          87,
          88,
          89,
          90,
          91,
          92,
          93,
          94,
          95,
          96,
          97,
          98,
          99
         ],
         "y": [
          0.5138257534676561,
          0.5138257534676561,
          0.5138257534676561,
          0.5138257534676561,
          0.5138257534676561,
          0.5546571631111091,
          0.5546571631111091,
          0.5546571631111091,
          0.5546571631111091,
          0.5546571631111091,
          0.5546571631111091,
          0.5546571631111091,
          0.5546571631111091,
          0.5546571631111091,
          0.5546571631111091,
          0.5546571631111091,
          0.5546571631111091,
          0.5546571631111091,
          0.5546571631111091,
          0.5546571631111091,
          0.5546571631111091,
          0.5546571631111091,
          0.5546571631111091,
          0.5546571631111091,
          0.5546571631111091,
          0.5546571631111091,
          0.5546571631111091,
          0.5546571631111091,
          0.5546571631111091,
          0.5546571631111091,
          0.5546571631111091,
          0.5546571631111091,
          0.5546571631111091,
          0.5546571631111091,
          0.5546571631111091,
          0.5546571631111091,
          0.5546571631111091,
          0.5546571631111091,
          0.5546571631111091,
          0.5546571631111091,
          0.5546571631111091,
          0.5546571631111091,
          0.5546571631111091,
          0.5546571631111091,
          0.5546571631111091,
          0.5546571631111091,
          0.5546571631111091,
          0.5546571631111091,
          0.5546571631111091,
          0.5546571631111091,
          0.5546571631111091,
          0.5546571631111091,
          0.5546571631111091,
          0.5546571631111091,
          0.5546571631111091,
          0.5546571631111091,
          0.5546571631111091,
          0.5546571631111091,
          0.5546571631111091,
          0.5546571631111091,
          0.5546571631111091,
          0.5546571631111091,
          0.5546571631111091,
          0.5546571631111091,
          0.5546571631111091,
          0.5546571631111091,
          0.5546571631111091,
          0.5546571631111091,
          0.5546571631111091,
          0.5546571631111091,
          0.5546571631111091,
          0.5546571631111091,
          0.5546571631111091,
          0.5546571631111091,
          0.5546571631111091,
          0.5546571631111091,
          0.5546571631111091,
          0.5546571631111091,
          0.5546571631111091,
          0.5546571631111091,
          0.5546571631111091,
          0.5546571631111091,
          0.5546571631111091,
          0.5546571631111091,
          0.5546571631111091,
          0.5546571631111091,
          0.5546571631111091,
          0.5546571631111091,
          0.5546571631111091,
          0.5546571631111091,
          0.5546571631111091,
          0.5546571631111091,
          0.5546571631111091,
          0.5546571631111091,
          0.5546571631111091,
          0.5546571631111091,
          0.5546571631111091,
          0.5546571631111091,
          0.5546571631111091,
          0.5546571631111091
         ]
        },
        {
         "marker": {
          "color": "#cccccc"
         },
         "mode": "markers",
         "name": "Infeasible Trial",
         "showlegend": false,
         "type": "scatter",
         "x": [],
         "y": []
        }
       ],
       "layout": {
        "template": {
         "data": {
          "bar": [
           {
            "error_x": {
             "color": "#2a3f5f"
            },
            "error_y": {
             "color": "#2a3f5f"
            },
            "marker": {
             "line": {
              "color": "#E5ECF6",
              "width": 0.5
             },
             "pattern": {
              "fillmode": "overlay",
              "size": 10,
              "solidity": 0.2
             }
            },
            "type": "bar"
           }
          ],
          "barpolar": [
           {
            "marker": {
             "line": {
              "color": "#E5ECF6",
              "width": 0.5
             },
             "pattern": {
              "fillmode": "overlay",
              "size": 10,
              "solidity": 0.2
             }
            },
            "type": "barpolar"
           }
          ],
          "carpet": [
           {
            "aaxis": {
             "endlinecolor": "#2a3f5f",
             "gridcolor": "white",
             "linecolor": "white",
             "minorgridcolor": "white",
             "startlinecolor": "#2a3f5f"
            },
            "baxis": {
             "endlinecolor": "#2a3f5f",
             "gridcolor": "white",
             "linecolor": "white",
             "minorgridcolor": "white",
             "startlinecolor": "#2a3f5f"
            },
            "type": "carpet"
           }
          ],
          "choropleth": [
           {
            "colorbar": {
             "outlinewidth": 0,
             "ticks": ""
            },
            "type": "choropleth"
           }
          ],
          "contour": [
           {
            "colorbar": {
             "outlinewidth": 0,
             "ticks": ""
            },
            "colorscale": [
             [
              0,
              "#0d0887"
             ],
             [
              0.1111111111111111,
              "#46039f"
             ],
             [
              0.2222222222222222,
              "#7201a8"
             ],
             [
              0.3333333333333333,
              "#9c179e"
             ],
             [
              0.4444444444444444,
              "#bd3786"
             ],
             [
              0.5555555555555556,
              "#d8576b"
             ],
             [
              0.6666666666666666,
              "#ed7953"
             ],
             [
              0.7777777777777778,
              "#fb9f3a"
             ],
             [
              0.8888888888888888,
              "#fdca26"
             ],
             [
              1,
              "#f0f921"
             ]
            ],
            "type": "contour"
           }
          ],
          "contourcarpet": [
           {
            "colorbar": {
             "outlinewidth": 0,
             "ticks": ""
            },
            "type": "contourcarpet"
           }
          ],
          "heatmap": [
           {
            "colorbar": {
             "outlinewidth": 0,
             "ticks": ""
            },
            "colorscale": [
             [
              0,
              "#0d0887"
             ],
             [
              0.1111111111111111,
              "#46039f"
             ],
             [
              0.2222222222222222,
              "#7201a8"
             ],
             [
              0.3333333333333333,
              "#9c179e"
             ],
             [
              0.4444444444444444,
              "#bd3786"
             ],
             [
              0.5555555555555556,
              "#d8576b"
             ],
             [
              0.6666666666666666,
              "#ed7953"
             ],
             [
              0.7777777777777778,
              "#fb9f3a"
             ],
             [
              0.8888888888888888,
              "#fdca26"
             ],
             [
              1,
              "#f0f921"
             ]
            ],
            "type": "heatmap"
           }
          ],
          "heatmapgl": [
           {
            "colorbar": {
             "outlinewidth": 0,
             "ticks": ""
            },
            "colorscale": [
             [
              0,
              "#0d0887"
             ],
             [
              0.1111111111111111,
              "#46039f"
             ],
             [
              0.2222222222222222,
              "#7201a8"
             ],
             [
              0.3333333333333333,
              "#9c179e"
             ],
             [
              0.4444444444444444,
              "#bd3786"
             ],
             [
              0.5555555555555556,
              "#d8576b"
             ],
             [
              0.6666666666666666,
              "#ed7953"
             ],
             [
              0.7777777777777778,
              "#fb9f3a"
             ],
             [
              0.8888888888888888,
              "#fdca26"
             ],
             [
              1,
              "#f0f921"
             ]
            ],
            "type": "heatmapgl"
           }
          ],
          "histogram": [
           {
            "marker": {
             "pattern": {
              "fillmode": "overlay",
              "size": 10,
              "solidity": 0.2
             }
            },
            "type": "histogram"
           }
          ],
          "histogram2d": [
           {
            "colorbar": {
             "outlinewidth": 0,
             "ticks": ""
            },
            "colorscale": [
             [
              0,
              "#0d0887"
             ],
             [
              0.1111111111111111,
              "#46039f"
             ],
             [
              0.2222222222222222,
              "#7201a8"
             ],
             [
              0.3333333333333333,
              "#9c179e"
             ],
             [
              0.4444444444444444,
              "#bd3786"
             ],
             [
              0.5555555555555556,
              "#d8576b"
             ],
             [
              0.6666666666666666,
              "#ed7953"
             ],
             [
              0.7777777777777778,
              "#fb9f3a"
             ],
             [
              0.8888888888888888,
              "#fdca26"
             ],
             [
              1,
              "#f0f921"
             ]
            ],
            "type": "histogram2d"
           }
          ],
          "histogram2dcontour": [
           {
            "colorbar": {
             "outlinewidth": 0,
             "ticks": ""
            },
            "colorscale": [
             [
              0,
              "#0d0887"
             ],
             [
              0.1111111111111111,
              "#46039f"
             ],
             [
              0.2222222222222222,
              "#7201a8"
             ],
             [
              0.3333333333333333,
              "#9c179e"
             ],
             [
              0.4444444444444444,
              "#bd3786"
             ],
             [
              0.5555555555555556,
              "#d8576b"
             ],
             [
              0.6666666666666666,
              "#ed7953"
             ],
             [
              0.7777777777777778,
              "#fb9f3a"
             ],
             [
              0.8888888888888888,
              "#fdca26"
             ],
             [
              1,
              "#f0f921"
             ]
            ],
            "type": "histogram2dcontour"
           }
          ],
          "mesh3d": [
           {
            "colorbar": {
             "outlinewidth": 0,
             "ticks": ""
            },
            "type": "mesh3d"
           }
          ],
          "parcoords": [
           {
            "line": {
             "colorbar": {
              "outlinewidth": 0,
              "ticks": ""
             }
            },
            "type": "parcoords"
           }
          ],
          "pie": [
           {
            "automargin": true,
            "type": "pie"
           }
          ],
          "scatter": [
           {
            "fillpattern": {
             "fillmode": "overlay",
             "size": 10,
             "solidity": 0.2
            },
            "type": "scatter"
           }
          ],
          "scatter3d": [
           {
            "line": {
             "colorbar": {
              "outlinewidth": 0,
              "ticks": ""
             }
            },
            "marker": {
             "colorbar": {
              "outlinewidth": 0,
              "ticks": ""
             }
            },
            "type": "scatter3d"
           }
          ],
          "scattercarpet": [
           {
            "marker": {
             "colorbar": {
              "outlinewidth": 0,
              "ticks": ""
             }
            },
            "type": "scattercarpet"
           }
          ],
          "scattergeo": [
           {
            "marker": {
             "colorbar": {
              "outlinewidth": 0,
              "ticks": ""
             }
            },
            "type": "scattergeo"
           }
          ],
          "scattergl": [
           {
            "marker": {
             "colorbar": {
              "outlinewidth": 0,
              "ticks": ""
             }
            },
            "type": "scattergl"
           }
          ],
          "scattermapbox": [
           {
            "marker": {
             "colorbar": {
              "outlinewidth": 0,
              "ticks": ""
             }
            },
            "type": "scattermapbox"
           }
          ],
          "scatterpolar": [
           {
            "marker": {
             "colorbar": {
              "outlinewidth": 0,
              "ticks": ""
             }
            },
            "type": "scatterpolar"
           }
          ],
          "scatterpolargl": [
           {
            "marker": {
             "colorbar": {
              "outlinewidth": 0,
              "ticks": ""
             }
            },
            "type": "scatterpolargl"
           }
          ],
          "scatterternary": [
           {
            "marker": {
             "colorbar": {
              "outlinewidth": 0,
              "ticks": ""
             }
            },
            "type": "scatterternary"
           }
          ],
          "surface": [
           {
            "colorbar": {
             "outlinewidth": 0,
             "ticks": ""
            },
            "colorscale": [
             [
              0,
              "#0d0887"
             ],
             [
              0.1111111111111111,
              "#46039f"
             ],
             [
              0.2222222222222222,
              "#7201a8"
             ],
             [
              0.3333333333333333,
              "#9c179e"
             ],
             [
              0.4444444444444444,
              "#bd3786"
             ],
             [
              0.5555555555555556,
              "#d8576b"
             ],
             [
              0.6666666666666666,
              "#ed7953"
             ],
             [
              0.7777777777777778,
              "#fb9f3a"
             ],
             [
              0.8888888888888888,
              "#fdca26"
             ],
             [
              1,
              "#f0f921"
             ]
            ],
            "type": "surface"
           }
          ],
          "table": [
           {
            "cells": {
             "fill": {
              "color": "#EBF0F8"
             },
             "line": {
              "color": "white"
             }
            },
            "header": {
             "fill": {
              "color": "#C8D4E3"
             },
             "line": {
              "color": "white"
             }
            },
            "type": "table"
           }
          ]
         },
         "layout": {
          "annotationdefaults": {
           "arrowcolor": "#2a3f5f",
           "arrowhead": 0,
           "arrowwidth": 1
          },
          "autotypenumbers": "strict",
          "coloraxis": {
           "colorbar": {
            "outlinewidth": 0,
            "ticks": ""
           }
          },
          "colorscale": {
           "diverging": [
            [
             0,
             "#8e0152"
            ],
            [
             0.1,
             "#c51b7d"
            ],
            [
             0.2,
             "#de77ae"
            ],
            [
             0.3,
             "#f1b6da"
            ],
            [
             0.4,
             "#fde0ef"
            ],
            [
             0.5,
             "#f7f7f7"
            ],
            [
             0.6,
             "#e6f5d0"
            ],
            [
             0.7,
             "#b8e186"
            ],
            [
             0.8,
             "#7fbc41"
            ],
            [
             0.9,
             "#4d9221"
            ],
            [
             1,
             "#276419"
            ]
           ],
           "sequential": [
            [
             0,
             "#0d0887"
            ],
            [
             0.1111111111111111,
             "#46039f"
            ],
            [
             0.2222222222222222,
             "#7201a8"
            ],
            [
             0.3333333333333333,
             "#9c179e"
            ],
            [
             0.4444444444444444,
             "#bd3786"
            ],
            [
             0.5555555555555556,
             "#d8576b"
            ],
            [
             0.6666666666666666,
             "#ed7953"
            ],
            [
             0.7777777777777778,
             "#fb9f3a"
            ],
            [
             0.8888888888888888,
             "#fdca26"
            ],
            [
             1,
             "#f0f921"
            ]
           ],
           "sequentialminus": [
            [
             0,
             "#0d0887"
            ],
            [
             0.1111111111111111,
             "#46039f"
            ],
            [
             0.2222222222222222,
             "#7201a8"
            ],
            [
             0.3333333333333333,
             "#9c179e"
            ],
            [
             0.4444444444444444,
             "#bd3786"
            ],
            [
             0.5555555555555556,
             "#d8576b"
            ],
            [
             0.6666666666666666,
             "#ed7953"
            ],
            [
             0.7777777777777778,
             "#fb9f3a"
            ],
            [
             0.8888888888888888,
             "#fdca26"
            ],
            [
             1,
             "#f0f921"
            ]
           ]
          },
          "colorway": [
           "#636efa",
           "#EF553B",
           "#00cc96",
           "#ab63fa",
           "#FFA15A",
           "#19d3f3",
           "#FF6692",
           "#B6E880",
           "#FF97FF",
           "#FECB52"
          ],
          "font": {
           "color": "#2a3f5f"
          },
          "geo": {
           "bgcolor": "white",
           "lakecolor": "white",
           "landcolor": "#E5ECF6",
           "showlakes": true,
           "showland": true,
           "subunitcolor": "white"
          },
          "hoverlabel": {
           "align": "left"
          },
          "hovermode": "closest",
          "mapbox": {
           "style": "light"
          },
          "paper_bgcolor": "white",
          "plot_bgcolor": "#E5ECF6",
          "polar": {
           "angularaxis": {
            "gridcolor": "white",
            "linecolor": "white",
            "ticks": ""
           },
           "bgcolor": "#E5ECF6",
           "radialaxis": {
            "gridcolor": "white",
            "linecolor": "white",
            "ticks": ""
           }
          },
          "scene": {
           "xaxis": {
            "backgroundcolor": "#E5ECF6",
            "gridcolor": "white",
            "gridwidth": 2,
            "linecolor": "white",
            "showbackground": true,
            "ticks": "",
            "zerolinecolor": "white"
           },
           "yaxis": {
            "backgroundcolor": "#E5ECF6",
            "gridcolor": "white",
            "gridwidth": 2,
            "linecolor": "white",
            "showbackground": true,
            "ticks": "",
            "zerolinecolor": "white"
           },
           "zaxis": {
            "backgroundcolor": "#E5ECF6",
            "gridcolor": "white",
            "gridwidth": 2,
            "linecolor": "white",
            "showbackground": true,
            "ticks": "",
            "zerolinecolor": "white"
           }
          },
          "shapedefaults": {
           "line": {
            "color": "#2a3f5f"
           }
          },
          "ternary": {
           "aaxis": {
            "gridcolor": "white",
            "linecolor": "white",
            "ticks": ""
           },
           "baxis": {
            "gridcolor": "white",
            "linecolor": "white",
            "ticks": ""
           },
           "bgcolor": "#E5ECF6",
           "caxis": {
            "gridcolor": "white",
            "linecolor": "white",
            "ticks": ""
           }
          },
          "title": {
           "x": 0.05
          },
          "xaxis": {
           "automargin": true,
           "gridcolor": "white",
           "linecolor": "white",
           "ticks": "",
           "title": {
            "standoff": 15
           },
           "zerolinecolor": "white",
           "zerolinewidth": 2
          },
          "yaxis": {
           "automargin": true,
           "gridcolor": "white",
           "linecolor": "white",
           "ticks": "",
           "title": {
            "standoff": 15
           },
           "zerolinecolor": "white",
           "zerolinewidth": 2
          }
         }
        },
        "title": {
         "text": "Optimization History Plot"
        },
        "xaxis": {
         "title": {
          "text": "Trial"
         }
        },
        "yaxis": {
         "title": {
          "text": "Objective Value"
         }
        }
       }
      }
     },
     "metadata": {},
     "output_type": "display_data"
    }
   ],
   "source": [
    "# Plot optimization history\n",
    "history_fig = plot_optimization_history(kmeans_study)\n",
    "history_fig.show()"
   ]
  },
  {
   "cell_type": "markdown",
   "metadata": {},
   "source": [
    "This shows the history of the silhouette value over the trials. "
   ]
  },
  {
   "cell_type": "code",
   "execution_count": 50,
   "metadata": {
    "vscode": {
     "languageId": "shellscript"
    }
   },
   "outputs": [
    {
     "data": {
      "application/vnd.plotly.v1+json": {
       "config": {
        "plotlyServerURL": "https://plot.ly"
       },
       "data": [
        {
         "dimensions": [
          {
           "label": "Objective Value",
           "range": [
            0.3973270007887498,
            0.5546571631111091
           ],
           "values": [
            0.5138257534676561,
            0.4550112502601921,
            0.4566624374485964,
            0.4566624374485964,
            0.44475993501732874,
            0.5546571631111091,
            0.44475993501732874,
            0.50200146805547,
            0.4566624374485964,
            0.49434988482196784,
            0.3973270007887498,
            0.5546571631111091,
            0.5546571631111091,
            0.46658474419000145,
            0.5546571631111091,
            0.5138257534676561,
            0.49434988482196784,
            0.50200146805547,
            0.49434988482196784,
            0.3973270007887498,
            0.5546571631111091,
            0.5546571631111091,
            0.5546571631111091,
            0.46658474419000145,
            0.50200146805547,
            0.5138257534676561,
            0.46658474419000145,
            0.49434988482196784,
            0.5546571631111091,
            0.5138257534676561,
            0.5138257534676561,
            0.5546571631111091,
            0.5546571631111091,
            0.49434988482196784,
            0.50200146805547,
            0.5138257534676561,
            0.5546571631111091,
            0.4550112502601921,
            0.49434988482196784,
            0.46658474419000145,
            0.4550112502601921,
            0.5546571631111091,
            0.5546571631111091,
            0.5138257534676561,
            0.49434988482196784,
            0.5546571631111091,
            0.5138257534676561,
            0.49434988482196784,
            0.5138257534676561,
            0.5546571631111091,
            0.49434988482196784,
            0.5546571631111091,
            0.5546571631111091,
            0.5138257534676561,
            0.5546571631111091,
            0.49434988482196784,
            0.50200146805547,
            0.46658474419000145,
            0.49434988482196784,
            0.50200146805547,
            0.5138257534676561,
            0.5546571631111091,
            0.5546571631111091,
            0.5546571631111091,
            0.5138257534676561,
            0.49434988482196784,
            0.5546571631111091,
            0.5138257534676561,
            0.5546571631111091,
            0.5546571631111091,
            0.49434988482196784,
            0.5546571631111091,
            0.5546571631111091,
            0.5546571631111091,
            0.44475993501732874,
            0.5138257534676561,
            0.49434988482196784,
            0.5138257534676561,
            0.49434988482196784,
            0.5546571631111091,
            0.5546571631111091,
            0.5546571631111091,
            0.5138257534676561,
            0.5546571631111091,
            0.5546571631111091,
            0.5546571631111091,
            0.49434988482196784,
            0.46658474419000145,
            0.5138257534676561,
            0.49434988482196784,
            0.5546571631111091,
            0.5546571631111091,
            0.5546571631111091,
            0.5138257534676561,
            0.5546571631111091,
            0.49434988482196784,
            0.5546571631111091,
            0.5138257534676561,
            0.5546571631111091,
            0.49434988482196784
           ]
          },
          {
           "label": "n_clusters",
           "range": [
            2,
            10
           ],
           "values": [
            6,
            8,
            9,
            9,
            10,
            5,
            10,
            7,
            9,
            4,
            2,
            5,
            5,
            3,
            5,
            6,
            4,
            7,
            4,
            2,
            5,
            5,
            5,
            3,
            7,
            6,
            3,
            4,
            5,
            6,
            6,
            5,
            5,
            4,
            7,
            6,
            5,
            8,
            4,
            3,
            8,
            5,
            5,
            6,
            4,
            5,
            6,
            4,
            6,
            5,
            4,
            5,
            5,
            6,
            5,
            4,
            7,
            3,
            4,
            7,
            6,
            5,
            5,
            5,
            6,
            4,
            5,
            6,
            5,
            5,
            4,
            5,
            5,
            5,
            10,
            6,
            4,
            6,
            4,
            5,
            5,
            5,
            6,
            5,
            5,
            5,
            4,
            3,
            6,
            4,
            5,
            5,
            5,
            6,
            5,
            4,
            5,
            6,
            5,
            4
           ]
          }
         ],
         "labelangle": 30,
         "labelside": "bottom",
         "line": {
          "color": [
           0.5138257534676561,
           0.4550112502601921,
           0.4566624374485964,
           0.4566624374485964,
           0.44475993501732874,
           0.5546571631111091,
           0.44475993501732874,
           0.50200146805547,
           0.4566624374485964,
           0.49434988482196784,
           0.3973270007887498,
           0.5546571631111091,
           0.5546571631111091,
           0.46658474419000145,
           0.5546571631111091,
           0.5138257534676561,
           0.49434988482196784,
           0.50200146805547,
           0.49434988482196784,
           0.3973270007887498,
           0.5546571631111091,
           0.5546571631111091,
           0.5546571631111091,
           0.46658474419000145,
           0.50200146805547,
           0.5138257534676561,
           0.46658474419000145,
           0.49434988482196784,
           0.5546571631111091,
           0.5138257534676561,
           0.5138257534676561,
           0.5546571631111091,
           0.5546571631111091,
           0.49434988482196784,
           0.50200146805547,
           0.5138257534676561,
           0.5546571631111091,
           0.4550112502601921,
           0.49434988482196784,
           0.46658474419000145,
           0.4550112502601921,
           0.5546571631111091,
           0.5546571631111091,
           0.5138257534676561,
           0.49434988482196784,
           0.5546571631111091,
           0.5138257534676561,
           0.49434988482196784,
           0.5138257534676561,
           0.5546571631111091,
           0.49434988482196784,
           0.5546571631111091,
           0.5546571631111091,
           0.5138257534676561,
           0.5546571631111091,
           0.49434988482196784,
           0.50200146805547,
           0.46658474419000145,
           0.49434988482196784,
           0.50200146805547,
           0.5138257534676561,
           0.5546571631111091,
           0.5546571631111091,
           0.5546571631111091,
           0.5138257534676561,
           0.49434988482196784,
           0.5546571631111091,
           0.5138257534676561,
           0.5546571631111091,
           0.5546571631111091,
           0.49434988482196784,
           0.5546571631111091,
           0.5546571631111091,
           0.5546571631111091,
           0.44475993501732874,
           0.5138257534676561,
           0.49434988482196784,
           0.5138257534676561,
           0.49434988482196784,
           0.5546571631111091,
           0.5546571631111091,
           0.5546571631111091,
           0.5138257534676561,
           0.5546571631111091,
           0.5546571631111091,
           0.5546571631111091,
           0.49434988482196784,
           0.46658474419000145,
           0.5138257534676561,
           0.49434988482196784,
           0.5546571631111091,
           0.5546571631111091,
           0.5546571631111091,
           0.5138257534676561,
           0.5546571631111091,
           0.49434988482196784,
           0.5546571631111091,
           0.5138257534676561,
           0.5546571631111091,
           0.49434988482196784
          ],
          "colorbar": {
           "title": {
            "text": "Objective Value"
           }
          },
          "colorscale": [
           [
            0,
            "rgb(247,251,255)"
           ],
           [
            0.125,
            "rgb(222,235,247)"
           ],
           [
            0.25,
            "rgb(198,219,239)"
           ],
           [
            0.375,
            "rgb(158,202,225)"
           ],
           [
            0.5,
            "rgb(107,174,214)"
           ],
           [
            0.625,
            "rgb(66,146,198)"
           ],
           [
            0.75,
            "rgb(33,113,181)"
           ],
           [
            0.875,
            "rgb(8,81,156)"
           ],
           [
            1,
            "rgb(8,48,107)"
           ]
          ],
          "reversescale": false,
          "showscale": true
         },
         "type": "parcoords"
        }
       ],
       "layout": {
        "template": {
         "data": {
          "bar": [
           {
            "error_x": {
             "color": "#2a3f5f"
            },
            "error_y": {
             "color": "#2a3f5f"
            },
            "marker": {
             "line": {
              "color": "#E5ECF6",
              "width": 0.5
             },
             "pattern": {
              "fillmode": "overlay",
              "size": 10,
              "solidity": 0.2
             }
            },
            "type": "bar"
           }
          ],
          "barpolar": [
           {
            "marker": {
             "line": {
              "color": "#E5ECF6",
              "width": 0.5
             },
             "pattern": {
              "fillmode": "overlay",
              "size": 10,
              "solidity": 0.2
             }
            },
            "type": "barpolar"
           }
          ],
          "carpet": [
           {
            "aaxis": {
             "endlinecolor": "#2a3f5f",
             "gridcolor": "white",
             "linecolor": "white",
             "minorgridcolor": "white",
             "startlinecolor": "#2a3f5f"
            },
            "baxis": {
             "endlinecolor": "#2a3f5f",
             "gridcolor": "white",
             "linecolor": "white",
             "minorgridcolor": "white",
             "startlinecolor": "#2a3f5f"
            },
            "type": "carpet"
           }
          ],
          "choropleth": [
           {
            "colorbar": {
             "outlinewidth": 0,
             "ticks": ""
            },
            "type": "choropleth"
           }
          ],
          "contour": [
           {
            "colorbar": {
             "outlinewidth": 0,
             "ticks": ""
            },
            "colorscale": [
             [
              0,
              "#0d0887"
             ],
             [
              0.1111111111111111,
              "#46039f"
             ],
             [
              0.2222222222222222,
              "#7201a8"
             ],
             [
              0.3333333333333333,
              "#9c179e"
             ],
             [
              0.4444444444444444,
              "#bd3786"
             ],
             [
              0.5555555555555556,
              "#d8576b"
             ],
             [
              0.6666666666666666,
              "#ed7953"
             ],
             [
              0.7777777777777778,
              "#fb9f3a"
             ],
             [
              0.8888888888888888,
              "#fdca26"
             ],
             [
              1,
              "#f0f921"
             ]
            ],
            "type": "contour"
           }
          ],
          "contourcarpet": [
           {
            "colorbar": {
             "outlinewidth": 0,
             "ticks": ""
            },
            "type": "contourcarpet"
           }
          ],
          "heatmap": [
           {
            "colorbar": {
             "outlinewidth": 0,
             "ticks": ""
            },
            "colorscale": [
             [
              0,
              "#0d0887"
             ],
             [
              0.1111111111111111,
              "#46039f"
             ],
             [
              0.2222222222222222,
              "#7201a8"
             ],
             [
              0.3333333333333333,
              "#9c179e"
             ],
             [
              0.4444444444444444,
              "#bd3786"
             ],
             [
              0.5555555555555556,
              "#d8576b"
             ],
             [
              0.6666666666666666,
              "#ed7953"
             ],
             [
              0.7777777777777778,
              "#fb9f3a"
             ],
             [
              0.8888888888888888,
              "#fdca26"
             ],
             [
              1,
              "#f0f921"
             ]
            ],
            "type": "heatmap"
           }
          ],
          "heatmapgl": [
           {
            "colorbar": {
             "outlinewidth": 0,
             "ticks": ""
            },
            "colorscale": [
             [
              0,
              "#0d0887"
             ],
             [
              0.1111111111111111,
              "#46039f"
             ],
             [
              0.2222222222222222,
              "#7201a8"
             ],
             [
              0.3333333333333333,
              "#9c179e"
             ],
             [
              0.4444444444444444,
              "#bd3786"
             ],
             [
              0.5555555555555556,
              "#d8576b"
             ],
             [
              0.6666666666666666,
              "#ed7953"
             ],
             [
              0.7777777777777778,
              "#fb9f3a"
             ],
             [
              0.8888888888888888,
              "#fdca26"
             ],
             [
              1,
              "#f0f921"
             ]
            ],
            "type": "heatmapgl"
           }
          ],
          "histogram": [
           {
            "marker": {
             "pattern": {
              "fillmode": "overlay",
              "size": 10,
              "solidity": 0.2
             }
            },
            "type": "histogram"
           }
          ],
          "histogram2d": [
           {
            "colorbar": {
             "outlinewidth": 0,
             "ticks": ""
            },
            "colorscale": [
             [
              0,
              "#0d0887"
             ],
             [
              0.1111111111111111,
              "#46039f"
             ],
             [
              0.2222222222222222,
              "#7201a8"
             ],
             [
              0.3333333333333333,
              "#9c179e"
             ],
             [
              0.4444444444444444,
              "#bd3786"
             ],
             [
              0.5555555555555556,
              "#d8576b"
             ],
             [
              0.6666666666666666,
              "#ed7953"
             ],
             [
              0.7777777777777778,
              "#fb9f3a"
             ],
             [
              0.8888888888888888,
              "#fdca26"
             ],
             [
              1,
              "#f0f921"
             ]
            ],
            "type": "histogram2d"
           }
          ],
          "histogram2dcontour": [
           {
            "colorbar": {
             "outlinewidth": 0,
             "ticks": ""
            },
            "colorscale": [
             [
              0,
              "#0d0887"
             ],
             [
              0.1111111111111111,
              "#46039f"
             ],
             [
              0.2222222222222222,
              "#7201a8"
             ],
             [
              0.3333333333333333,
              "#9c179e"
             ],
             [
              0.4444444444444444,
              "#bd3786"
             ],
             [
              0.5555555555555556,
              "#d8576b"
             ],
             [
              0.6666666666666666,
              "#ed7953"
             ],
             [
              0.7777777777777778,
              "#fb9f3a"
             ],
             [
              0.8888888888888888,
              "#fdca26"
             ],
             [
              1,
              "#f0f921"
             ]
            ],
            "type": "histogram2dcontour"
           }
          ],
          "mesh3d": [
           {
            "colorbar": {
             "outlinewidth": 0,
             "ticks": ""
            },
            "type": "mesh3d"
           }
          ],
          "parcoords": [
           {
            "line": {
             "colorbar": {
              "outlinewidth": 0,
              "ticks": ""
             }
            },
            "type": "parcoords"
           }
          ],
          "pie": [
           {
            "automargin": true,
            "type": "pie"
           }
          ],
          "scatter": [
           {
            "fillpattern": {
             "fillmode": "overlay",
             "size": 10,
             "solidity": 0.2
            },
            "type": "scatter"
           }
          ],
          "scatter3d": [
           {
            "line": {
             "colorbar": {
              "outlinewidth": 0,
              "ticks": ""
             }
            },
            "marker": {
             "colorbar": {
              "outlinewidth": 0,
              "ticks": ""
             }
            },
            "type": "scatter3d"
           }
          ],
          "scattercarpet": [
           {
            "marker": {
             "colorbar": {
              "outlinewidth": 0,
              "ticks": ""
             }
            },
            "type": "scattercarpet"
           }
          ],
          "scattergeo": [
           {
            "marker": {
             "colorbar": {
              "outlinewidth": 0,
              "ticks": ""
             }
            },
            "type": "scattergeo"
           }
          ],
          "scattergl": [
           {
            "marker": {
             "colorbar": {
              "outlinewidth": 0,
              "ticks": ""
             }
            },
            "type": "scattergl"
           }
          ],
          "scattermapbox": [
           {
            "marker": {
             "colorbar": {
              "outlinewidth": 0,
              "ticks": ""
             }
            },
            "type": "scattermapbox"
           }
          ],
          "scatterpolar": [
           {
            "marker": {
             "colorbar": {
              "outlinewidth": 0,
              "ticks": ""
             }
            },
            "type": "scatterpolar"
           }
          ],
          "scatterpolargl": [
           {
            "marker": {
             "colorbar": {
              "outlinewidth": 0,
              "ticks": ""
             }
            },
            "type": "scatterpolargl"
           }
          ],
          "scatterternary": [
           {
            "marker": {
             "colorbar": {
              "outlinewidth": 0,
              "ticks": ""
             }
            },
            "type": "scatterternary"
           }
          ],
          "surface": [
           {
            "colorbar": {
             "outlinewidth": 0,
             "ticks": ""
            },
            "colorscale": [
             [
              0,
              "#0d0887"
             ],
             [
              0.1111111111111111,
              "#46039f"
             ],
             [
              0.2222222222222222,
              "#7201a8"
             ],
             [
              0.3333333333333333,
              "#9c179e"
             ],
             [
              0.4444444444444444,
              "#bd3786"
             ],
             [
              0.5555555555555556,
              "#d8576b"
             ],
             [
              0.6666666666666666,
              "#ed7953"
             ],
             [
              0.7777777777777778,
              "#fb9f3a"
             ],
             [
              0.8888888888888888,
              "#fdca26"
             ],
             [
              1,
              "#f0f921"
             ]
            ],
            "type": "surface"
           }
          ],
          "table": [
           {
            "cells": {
             "fill": {
              "color": "#EBF0F8"
             },
             "line": {
              "color": "white"
             }
            },
            "header": {
             "fill": {
              "color": "#C8D4E3"
             },
             "line": {
              "color": "white"
             }
            },
            "type": "table"
           }
          ]
         },
         "layout": {
          "annotationdefaults": {
           "arrowcolor": "#2a3f5f",
           "arrowhead": 0,
           "arrowwidth": 1
          },
          "autotypenumbers": "strict",
          "coloraxis": {
           "colorbar": {
            "outlinewidth": 0,
            "ticks": ""
           }
          },
          "colorscale": {
           "diverging": [
            [
             0,
             "#8e0152"
            ],
            [
             0.1,
             "#c51b7d"
            ],
            [
             0.2,
             "#de77ae"
            ],
            [
             0.3,
             "#f1b6da"
            ],
            [
             0.4,
             "#fde0ef"
            ],
            [
             0.5,
             "#f7f7f7"
            ],
            [
             0.6,
             "#e6f5d0"
            ],
            [
             0.7,
             "#b8e186"
            ],
            [
             0.8,
             "#7fbc41"
            ],
            [
             0.9,
             "#4d9221"
            ],
            [
             1,
             "#276419"
            ]
           ],
           "sequential": [
            [
             0,
             "#0d0887"
            ],
            [
             0.1111111111111111,
             "#46039f"
            ],
            [
             0.2222222222222222,
             "#7201a8"
            ],
            [
             0.3333333333333333,
             "#9c179e"
            ],
            [
             0.4444444444444444,
             "#bd3786"
            ],
            [
             0.5555555555555556,
             "#d8576b"
            ],
            [
             0.6666666666666666,
             "#ed7953"
            ],
            [
             0.7777777777777778,
             "#fb9f3a"
            ],
            [
             0.8888888888888888,
             "#fdca26"
            ],
            [
             1,
             "#f0f921"
            ]
           ],
           "sequentialminus": [
            [
             0,
             "#0d0887"
            ],
            [
             0.1111111111111111,
             "#46039f"
            ],
            [
             0.2222222222222222,
             "#7201a8"
            ],
            [
             0.3333333333333333,
             "#9c179e"
            ],
            [
             0.4444444444444444,
             "#bd3786"
            ],
            [
             0.5555555555555556,
             "#d8576b"
            ],
            [
             0.6666666666666666,
             "#ed7953"
            ],
            [
             0.7777777777777778,
             "#fb9f3a"
            ],
            [
             0.8888888888888888,
             "#fdca26"
            ],
            [
             1,
             "#f0f921"
            ]
           ]
          },
          "colorway": [
           "#636efa",
           "#EF553B",
           "#00cc96",
           "#ab63fa",
           "#FFA15A",
           "#19d3f3",
           "#FF6692",
           "#B6E880",
           "#FF97FF",
           "#FECB52"
          ],
          "font": {
           "color": "#2a3f5f"
          },
          "geo": {
           "bgcolor": "white",
           "lakecolor": "white",
           "landcolor": "#E5ECF6",
           "showlakes": true,
           "showland": true,
           "subunitcolor": "white"
          },
          "hoverlabel": {
           "align": "left"
          },
          "hovermode": "closest",
          "mapbox": {
           "style": "light"
          },
          "paper_bgcolor": "white",
          "plot_bgcolor": "#E5ECF6",
          "polar": {
           "angularaxis": {
            "gridcolor": "white",
            "linecolor": "white",
            "ticks": ""
           },
           "bgcolor": "#E5ECF6",
           "radialaxis": {
            "gridcolor": "white",
            "linecolor": "white",
            "ticks": ""
           }
          },
          "scene": {
           "xaxis": {
            "backgroundcolor": "#E5ECF6",
            "gridcolor": "white",
            "gridwidth": 2,
            "linecolor": "white",
            "showbackground": true,
            "ticks": "",
            "zerolinecolor": "white"
           },
           "yaxis": {
            "backgroundcolor": "#E5ECF6",
            "gridcolor": "white",
            "gridwidth": 2,
            "linecolor": "white",
            "showbackground": true,
            "ticks": "",
            "zerolinecolor": "white"
           },
           "zaxis": {
            "backgroundcolor": "#E5ECF6",
            "gridcolor": "white",
            "gridwidth": 2,
            "linecolor": "white",
            "showbackground": true,
            "ticks": "",
            "zerolinecolor": "white"
           }
          },
          "shapedefaults": {
           "line": {
            "color": "#2a3f5f"
           }
          },
          "ternary": {
           "aaxis": {
            "gridcolor": "white",
            "linecolor": "white",
            "ticks": ""
           },
           "baxis": {
            "gridcolor": "white",
            "linecolor": "white",
            "ticks": ""
           },
           "bgcolor": "#E5ECF6",
           "caxis": {
            "gridcolor": "white",
            "linecolor": "white",
            "ticks": ""
           }
          },
          "title": {
           "x": 0.05
          },
          "xaxis": {
           "automargin": true,
           "gridcolor": "white",
           "linecolor": "white",
           "ticks": "",
           "title": {
            "standoff": 15
           },
           "zerolinecolor": "white",
           "zerolinewidth": 2
          },
          "yaxis": {
           "automargin": true,
           "gridcolor": "white",
           "linecolor": "white",
           "ticks": "",
           "title": {
            "standoff": 15
           },
           "zerolinecolor": "white",
           "zerolinewidth": 2
          }
         }
        },
        "title": {
         "text": "Parallel Coordinate Plot"
        }
       }
      }
     },
     "metadata": {},
     "output_type": "display_data"
    }
   ],
   "source": [
    "# Plot parallel coordinate plot of the optimization results\n",
    "parallel_fig = plot_parallel_coordinate(kmeans_study)\n",
    "parallel_fig.show()"
   ]
  },
  {
   "cell_type": "markdown",
   "metadata": {},
   "source": [
    "Here we can see the correlations between the different n_clusters values and the silhouette values. "
   ]
  },
  {
   "cell_type": "markdown",
   "metadata": {},
   "source": [
    "Now we want to check the 'Inertia' measure which tells us how tightly the clusters are packed in the K-means clustering we got. The smaller the 'Inertia' is - the tighter the clusters are. "
   ]
  },
  {
   "cell_type": "code",
   "execution_count": 51,
   "metadata": {
    "vscode": {
     "languageId": "shellscript"
    }
   },
   "outputs": [
    {
     "data": {
      "image/png": "[encoded data removed]",
      "text/plain": [
       "<Figure size 800x500 with 1 Axes>"
      ]
     },
     "metadata": {},
     "output_type": "display_data"
    }
   ],
   "source": [
    "# Elbow method \n",
    "inertias = []\n",
    "\n",
    "for i in range(1, 11):\n",
    "    kmeans = KMeans(n_clusters=i, random_state=42)\n",
    "    kmeans.fit(X_scaled)  # Use the scaled features\n",
    "    inertias.append(kmeans.inertia_)\n",
    "\n",
    "plt.figure(figsize=(8, 5))\n",
    "plt.plot(range(1, 11), inertias, marker='o')\n",
    "plt.title('Elbow Method')\n",
    "plt.xlabel('Number of Clusters')\n",
    "plt.ylabel('Inertia')\n",
    "plt.xticks(range(1, 11))\n",
    "plt.grid()\n",
    "plt.show()"
   ]
  },
  {
   "cell_type": "markdown",
   "metadata": {},
   "source": [
    "We can see that the 'Inertia' decrease as the number of clusters increase. \n",
    "\n",
    "However, the slope becomes less significant as we pass the number of clusters of 5, another evidence for the optimality of n_clusters=5. "
   ]
  },
  {
   "cell_type": "markdown",
   "metadata": {},
   "source": [
    "---------------"
   ]
  },
  {
   "cell_type": "markdown",
   "metadata": {},
   "source": [
    "## **Gaussian Mixture Model - GMM**"
   ]
  },
  {
   "cell_type": "code",
   "execution_count": 52,
   "metadata": {
    "vscode": {
     "languageId": "shellscript"
    }
   },
   "outputs": [],
   "source": [
    "from sklearn.mixture import GaussianMixture"
   ]
  },
  {
   "cell_type": "markdown",
   "metadata": {},
   "source": [
    "### <u>Initial GMM clustering:</u>"
   ]
  },
  {
   "cell_type": "markdown",
   "metadata": {},
   "source": [
    "First, we will apply the initial K-means, with n_clusters of 3."
   ]
  },
  {
   "cell_type": "code",
   "execution_count": 53,
   "metadata": {
    "vscode": {
     "languageId": "shellscript"
    }
   },
   "outputs": [],
   "source": [
    "# Initial GMM clustering\n",
    "def gmm_clustering(n_components):\n",
    "    gmm = GaussianMixture(n_components=n_components, random_state=42)\n",
    "    labels = gmm.fit_predict(X_scaled)\n",
    "    silhouette_avg = silhouette_score(X_scaled, labels)\n",
    "    return gmm, labels, silhouette_avg"
   ]
  },
  {
   "cell_type": "code",
   "execution_count": 54,
   "metadata": {
    "vscode": {
     "languageId": "shellscript"
    }
   },
   "outputs": [
    {
     "name": "stdout",
     "output_type": "stream",
     "text": [
      "Initial Silhouette Score: 0.4302\n"
     ]
    }
   ],
   "source": [
    "n_components = 3\n",
    "initial_gmm, initial_gmm_labels, initial_gmm_silhouette = gmm_clustering(n_components)\n",
    "\n",
    "print(f\"Initial Silhouette Score: {initial_gmm_silhouette:.4f}\")"
   ]
  },
  {
   "cell_type": "code",
   "execution_count": 55,
   "metadata": {
    "vscode": {
     "languageId": "shellscript"
    }
   },
   "outputs": [
    {
     "data": {
      "image/png": "[encoded data removed]",
      "text/plain": [
       "<Figure size 1200x400 with 2 Axes>"
      ]
     },
     "metadata": {},
     "output_type": "display_data"
    }
   ],
   "source": [
    "plot_silhouette(X_scaled, initial_gmm_labels)"
   ]
  },
  {
   "cell_type": "markdown",
   "metadata": {},
   "source": [
    "### <u>Optuna Optimization:</u>"
   ]
  },
  {
   "cell_type": "markdown",
   "metadata": {},
   "source": [
    "We will now use the Optuna tool in order to optimize the GMM-clustering."
   ]
  },
  {
   "cell_type": "code",
   "execution_count": 56,
   "metadata": {
    "vscode": {
     "languageId": "shellscript"
    }
   },
   "outputs": [],
   "source": [
    "# Define Optuna objective function for GMM\n",
    "def gmm_objective(trial):\n",
    "    n_components = trial.suggest_int('n_components', 2, 10)\n",
    "    gmm = GaussianMixture(n_components=n_components, random_state=42)\n",
    "    gmm.fit(X_scaled)\n",
    "    labels = gmm.predict(X_scaled)\n",
    "    silhouette_avg = silhouette_score(X_scaled, labels)\n",
    "    return silhouette_avg"
   ]
  },
  {
   "cell_type": "code",
   "execution_count": 57,
   "metadata": {
    "vscode": {
     "languageId": "shellscript"
    }
   },
   "outputs": [
    {
     "name": "stderr",
     "output_type": "stream",
     "text": [
      "[I 2024-09-08 18:42:26,938] A new study created in memory with name: no-name-652fffb9-eda1-4a2f-87fa-4bb04d269b74\n"
     ]
    },
    {
     "name": "stderr",
     "output_type": "stream",
     "text": [
      "[I 2024-09-08 18:42:27,242] Trial 0 finished with value: 0.4232815191607955 and parameters: {'n_components': 9}. Best is trial 0 with value: 0.4232815191607955.\n",
      "[I 2024-09-08 18:42:27,265] Trial 1 finished with value: 0.37908245581738753 and parameters: {'n_components': 2}. Best is trial 0 with value: 0.4232815191607955.\n",
      "[I 2024-09-08 18:42:27,290] Trial 2 finished with value: 0.5536892843811245 and parameters: {'n_components': 5}. Best is trial 2 with value: 0.5536892843811245.\n",
      "[I 2024-09-08 18:42:27,322] Trial 3 finished with value: 0.41339168343976207 and parameters: {'n_components': 4}. Best is trial 2 with value: 0.5536892843811245.\n",
      "[I 2024-09-08 18:42:27,530] Trial 4 finished with value: 0.5090572558079016 and parameters: {'n_components': 7}. Best is trial 2 with value: 0.5536892843811245.\n",
      "[I 2024-09-08 18:42:27,699] Trial 5 finished with value: 0.37908245581738753 and parameters: {'n_components': 2}. Best is trial 2 with value: 0.5536892843811245.\n",
      "[I 2024-09-08 18:42:28,039] Trial 6 finished with value: 0.5536892843811245 and parameters: {'n_components': 5}. Best is trial 2 with value: 0.5536892843811245.\n",
      "[I 2024-09-08 18:42:28,105] Trial 7 finished with value: 0.5536892843811245 and parameters: {'n_components': 5}. Best is trial 2 with value: 0.5536892843811245.\n",
      "[I 2024-09-08 18:42:28,267] Trial 8 finished with value: 0.41339168343976207 and parameters: {'n_components': 4}. Best is trial 2 with value: 0.5536892843811245.\n",
      "[I 2024-09-08 18:42:28,312] Trial 9 finished with value: 0.5169815972855477 and parameters: {'n_components': 6}. Best is trial 2 with value: 0.5536892843811245.\n",
      "[I 2024-09-08 18:42:28,447] Trial 10 finished with value: 0.4232815191607955 and parameters: {'n_components': 9}. Best is trial 2 with value: 0.5536892843811245.\n",
      "[I 2024-09-08 18:42:28,491] Trial 11 finished with value: 0.5090572558079016 and parameters: {'n_components': 7}. Best is trial 2 with value: 0.5536892843811245.\n",
      "[I 2024-09-08 18:42:28,537] Trial 12 finished with value: 0.41339168343976207 and parameters: {'n_components': 4}. Best is trial 2 with value: 0.5536892843811245.\n",
      "[I 2024-09-08 18:42:28,574] Trial 13 finished with value: 0.5169815972855477 and parameters: {'n_components': 6}. Best is trial 2 with value: 0.5536892843811245.\n",
      "[I 2024-09-08 18:42:28,618] Trial 14 finished with value: 0.43018957138806657 and parameters: {'n_components': 3}. Best is trial 2 with value: 0.5536892843811245.\n",
      "[I 2024-09-08 18:42:28,662] Trial 15 finished with value: 0.5090572558079016 and parameters: {'n_components': 7}. Best is trial 2 with value: 0.5536892843811245.\n",
      "[I 2024-09-08 18:42:28,729] Trial 16 finished with value: 0.5536892843811245 and parameters: {'n_components': 5}. Best is trial 2 with value: 0.5536892843811245.\n",
      "[I 2024-09-08 18:42:28,828] Trial 17 finished with value: 0.4153085913962273 and parameters: {'n_components': 10}. Best is trial 2 with value: 0.5536892843811245.\n",
      "[I 2024-09-08 18:42:28,862] Trial 18 finished with value: 0.5536892843811245 and parameters: {'n_components': 5}. Best is trial 2 with value: 0.5536892843811245.\n",
      "[I 2024-09-08 18:42:28,909] Trial 19 finished with value: 0.43021022756796046 and parameters: {'n_components': 8}. Best is trial 2 with value: 0.5536892843811245.\n",
      "[I 2024-09-08 18:42:28,949] Trial 20 finished with value: 0.43018957138806657 and parameters: {'n_components': 3}. Best is trial 2 with value: 0.5536892843811245.\n",
      "[I 2024-09-08 18:42:29,002] Trial 21 finished with value: 0.5536892843811245 and parameters: {'n_components': 5}. Best is trial 2 with value: 0.5536892843811245.\n",
      "[I 2024-09-08 18:42:29,037] Trial 22 finished with value: 0.5536892843811245 and parameters: {'n_components': 5}. Best is trial 2 with value: 0.5536892843811245.\n",
      "[I 2024-09-08 18:42:29,075] Trial 23 finished with value: 0.5169815972855477 and parameters: {'n_components': 6}. Best is trial 2 with value: 0.5536892843811245.\n",
      "[I 2024-09-08 18:42:29,111] Trial 24 finished with value: 0.43018957138806657 and parameters: {'n_components': 3}. Best is trial 2 with value: 0.5536892843811245.\n",
      "[I 2024-09-08 18:42:29,156] Trial 25 finished with value: 0.5169815972855477 and parameters: {'n_components': 6}. Best is trial 2 with value: 0.5536892843811245.\n",
      "[I 2024-09-08 18:42:29,203] Trial 26 finished with value: 0.41339168343976207 and parameters: {'n_components': 4}. Best is trial 2 with value: 0.5536892843811245.\n",
      "[I 2024-09-08 18:42:29,241] Trial 27 finished with value: 0.5536892843811245 and parameters: {'n_components': 5}. Best is trial 2 with value: 0.5536892843811245.\n",
      "[I 2024-09-08 18:42:29,288] Trial 28 finished with value: 0.5090572558079016 and parameters: {'n_components': 7}. Best is trial 2 with value: 0.5536892843811245.\n",
      "[I 2024-09-08 18:42:29,338] Trial 29 finished with value: 0.43021022756796046 and parameters: {'n_components': 8}. Best is trial 2 with value: 0.5536892843811245.\n",
      "[I 2024-09-08 18:42:29,378] Trial 30 finished with value: 0.41339168343976207 and parameters: {'n_components': 4}. Best is trial 2 with value: 0.5536892843811245.\n",
      "[I 2024-09-08 18:42:29,412] Trial 31 finished with value: 0.5536892843811245 and parameters: {'n_components': 5}. Best is trial 2 with value: 0.5536892843811245.\n",
      "[I 2024-09-08 18:42:29,446] Trial 32 finished with value: 0.5169815972855477 and parameters: {'n_components': 6}. Best is trial 2 with value: 0.5536892843811245.\n",
      "[I 2024-09-08 18:42:29,479] Trial 33 finished with value: 0.5536892843811245 and parameters: {'n_components': 5}. Best is trial 2 with value: 0.5536892843811245.\n",
      "[I 2024-09-08 18:42:29,515] Trial 34 finished with value: 0.41339168343976207 and parameters: {'n_components': 4}. Best is trial 2 with value: 0.5536892843811245.\n",
      "[I 2024-09-08 18:42:29,557] Trial 35 finished with value: 0.43018957138806657 and parameters: {'n_components': 3}. Best is trial 2 with value: 0.5536892843811245.\n",
      "[I 2024-09-08 18:42:29,593] Trial 36 finished with value: 0.5536892843811245 and parameters: {'n_components': 5}. Best is trial 2 with value: 0.5536892843811245.\n",
      "[I 2024-09-08 18:42:29,619] Trial 37 finished with value: 0.37908245581738753 and parameters: {'n_components': 2}. Best is trial 2 with value: 0.5536892843811245.\n",
      "[I 2024-09-08 18:42:29,653] Trial 38 finished with value: 0.5169815972855477 and parameters: {'n_components': 6}. Best is trial 2 with value: 0.5536892843811245.\n",
      "[I 2024-09-08 18:42:29,694] Trial 39 finished with value: 0.41339168343976207 and parameters: {'n_components': 4}. Best is trial 2 with value: 0.5536892843811245.\n",
      "[I 2024-09-08 18:42:29,729] Trial 40 finished with value: 0.5169815972855477 and parameters: {'n_components': 6}. Best is trial 2 with value: 0.5536892843811245.\n",
      "[I 2024-09-08 18:42:29,970] Trial 41 finished with value: 0.5536892843811245 and parameters: {'n_components': 5}. Best is trial 2 with value: 0.5536892843811245.\n",
      "[I 2024-09-08 18:42:30,013] Trial 42 finished with value: 0.5536892843811245 and parameters: {'n_components': 5}. Best is trial 2 with value: 0.5536892843811245.\n",
      "[I 2024-09-08 18:42:30,051] Trial 43 finished with value: 0.41339168343976207 and parameters: {'n_components': 4}. Best is trial 2 with value: 0.5536892843811245.\n",
      "[I 2024-09-08 18:42:30,089] Trial 44 finished with value: 0.5536892843811245 and parameters: {'n_components': 5}. Best is trial 2 with value: 0.5536892843811245.\n",
      "[I 2024-09-08 18:42:30,127] Trial 45 finished with value: 0.5169815972855477 and parameters: {'n_components': 6}. Best is trial 2 with value: 0.5536892843811245.\n",
      "[I 2024-09-08 18:42:30,166] Trial 46 finished with value: 0.41339168343976207 and parameters: {'n_components': 4}. Best is trial 2 with value: 0.5536892843811245.\n",
      "[I 2024-09-08 18:42:30,219] Trial 47 finished with value: 0.5090572558079016 and parameters: {'n_components': 7}. Best is trial 2 with value: 0.5536892843811245.\n",
      "[I 2024-09-08 18:42:30,258] Trial 48 finished with value: 0.5169815972855477 and parameters: {'n_components': 6}. Best is trial 2 with value: 0.5536892843811245.\n",
      "[I 2024-09-08 18:42:30,296] Trial 49 finished with value: 0.5536892843811245 and parameters: {'n_components': 5}. Best is trial 2 with value: 0.5536892843811245.\n",
      "[I 2024-09-08 18:42:30,337] Trial 50 finished with value: 0.41339168343976207 and parameters: {'n_components': 4}. Best is trial 2 with value: 0.5536892843811245.\n",
      "[I 2024-09-08 18:42:30,377] Trial 51 finished with value: 0.5536892843811245 and parameters: {'n_components': 5}. Best is trial 2 with value: 0.5536892843811245.\n",
      "[I 2024-09-08 18:42:30,405] Trial 52 finished with value: 0.5536892843811245 and parameters: {'n_components': 5}. Best is trial 2 with value: 0.5536892843811245.\n",
      "[I 2024-09-08 18:42:30,439] Trial 53 finished with value: 0.5169815972855477 and parameters: {'n_components': 6}. Best is trial 2 with value: 0.5536892843811245.\n",
      "[I 2024-09-08 18:42:30,471] Trial 54 finished with value: 0.43018957138806657 and parameters: {'n_components': 3}. Best is trial 2 with value: 0.5536892843811245.\n",
      "[I 2024-09-08 18:42:30,505] Trial 55 finished with value: 0.5536892843811245 and parameters: {'n_components': 5}. Best is trial 2 with value: 0.5536892843811245.\n",
      "[I 2024-09-08 18:42:30,544] Trial 56 finished with value: 0.41339168343976207 and parameters: {'n_components': 4}. Best is trial 2 with value: 0.5536892843811245.\n",
      "[I 2024-09-08 18:42:30,579] Trial 57 finished with value: 0.5536892843811245 and parameters: {'n_components': 5}. Best is trial 2 with value: 0.5536892843811245.\n",
      "[I 2024-09-08 18:42:30,620] Trial 58 finished with value: 0.5169815972855477 and parameters: {'n_components': 6}. Best is trial 2 with value: 0.5536892843811245.\n",
      "[I 2024-09-08 18:42:30,660] Trial 59 finished with value: 0.5090572558079016 and parameters: {'n_components': 7}. Best is trial 2 with value: 0.5536892843811245.\n",
      "[I 2024-09-08 18:42:30,701] Trial 60 finished with value: 0.41339168343976207 and parameters: {'n_components': 4}. Best is trial 2 with value: 0.5536892843811245.\n",
      "[I 2024-09-08 18:42:30,749] Trial 61 finished with value: 0.5536892843811245 and parameters: {'n_components': 5}. Best is trial 2 with value: 0.5536892843811245.\n",
      "[I 2024-09-08 18:42:31,469] Trial 62 finished with value: 0.5536892843811245 and parameters: {'n_components': 5}. Best is trial 2 with value: 0.5536892843811245.\n",
      "[I 2024-09-08 18:42:31,604] Trial 63 finished with value: 0.5536892843811245 and parameters: {'n_components': 5}. Best is trial 2 with value: 0.5536892843811245.\n",
      "[I 2024-09-08 18:42:31,686] Trial 64 finished with value: 0.4153085913962273 and parameters: {'n_components': 10}. Best is trial 2 with value: 0.5536892843811245.\n",
      "[I 2024-09-08 18:42:31,733] Trial 65 finished with value: 0.41339168343976207 and parameters: {'n_components': 4}. Best is trial 2 with value: 0.5536892843811245.\n",
      "[I 2024-09-08 18:42:31,781] Trial 66 finished with value: 0.5169815972855477 and parameters: {'n_components': 6}. Best is trial 2 with value: 0.5536892843811245.\n",
      "[I 2024-09-08 18:42:31,815] Trial 67 finished with value: 0.5536892843811245 and parameters: {'n_components': 5}. Best is trial 2 with value: 0.5536892843811245.\n",
      "[I 2024-09-08 18:42:31,857] Trial 68 finished with value: 0.43018957138806657 and parameters: {'n_components': 3}. Best is trial 2 with value: 0.5536892843811245.\n",
      "[I 2024-09-08 18:42:31,895] Trial 69 finished with value: 0.5169815972855477 and parameters: {'n_components': 6}. Best is trial 2 with value: 0.5536892843811245.\n",
      "[I 2024-09-08 18:42:31,938] Trial 70 finished with value: 0.41339168343976207 and parameters: {'n_components': 4}. Best is trial 2 with value: 0.5536892843811245.\n",
      "[I 2024-09-08 18:42:31,975] Trial 71 finished with value: 0.5536892843811245 and parameters: {'n_components': 5}. Best is trial 2 with value: 0.5536892843811245.\n",
      "[I 2024-09-08 18:42:32,012] Trial 72 finished with value: 0.5536892843811245 and parameters: {'n_components': 5}. Best is trial 2 with value: 0.5536892843811245.\n",
      "[I 2024-09-08 18:42:32,053] Trial 73 finished with value: 0.5536892843811245 and parameters: {'n_components': 5}. Best is trial 2 with value: 0.5536892843811245.\n",
      "[I 2024-09-08 18:42:32,092] Trial 74 finished with value: 0.5169815972855477 and parameters: {'n_components': 6}. Best is trial 2 with value: 0.5536892843811245.\n",
      "[I 2024-09-08 18:42:32,133] Trial 75 finished with value: 0.5536892843811245 and parameters: {'n_components': 5}. Best is trial 2 with value: 0.5536892843811245.\n",
      "[I 2024-09-08 18:42:32,171] Trial 76 finished with value: 0.5169815972855477 and parameters: {'n_components': 6}. Best is trial 2 with value: 0.5536892843811245.\n",
      "[I 2024-09-08 18:42:32,208] Trial 77 finished with value: 0.41339168343976207 and parameters: {'n_components': 4}. Best is trial 2 with value: 0.5536892843811245.\n",
      "[I 2024-09-08 18:42:32,243] Trial 78 finished with value: 0.5536892843811245 and parameters: {'n_components': 5}. Best is trial 2 with value: 0.5536892843811245.\n",
      "[I 2024-09-08 18:42:32,320] Trial 79 finished with value: 0.4232815191607955 and parameters: {'n_components': 9}. Best is trial 2 with value: 0.5536892843811245.\n",
      "[I 2024-09-08 18:42:32,360] Trial 80 finished with value: 0.41339168343976207 and parameters: {'n_components': 4}. Best is trial 2 with value: 0.5536892843811245.\n",
      "[I 2024-09-08 18:42:32,403] Trial 81 finished with value: 0.5536892843811245 and parameters: {'n_components': 5}. Best is trial 2 with value: 0.5536892843811245.\n",
      "[I 2024-09-08 18:42:32,441] Trial 82 finished with value: 0.5536892843811245 and parameters: {'n_components': 5}. Best is trial 2 with value: 0.5536892843811245.\n",
      "[I 2024-09-08 18:42:32,477] Trial 83 finished with value: 0.5169815972855477 and parameters: {'n_components': 6}. Best is trial 2 with value: 0.5536892843811245.\n",
      "[I 2024-09-08 18:42:32,513] Trial 84 finished with value: 0.5536892843811245 and parameters: {'n_components': 5}. Best is trial 2 with value: 0.5536892843811245.\n",
      "[I 2024-09-08 18:42:32,557] Trial 85 finished with value: 0.41339168343976207 and parameters: {'n_components': 4}. Best is trial 2 with value: 0.5536892843811245.\n",
      "[I 2024-09-08 18:42:32,600] Trial 86 finished with value: 0.5536892843811245 and parameters: {'n_components': 5}. Best is trial 2 with value: 0.5536892843811245.\n",
      "[I 2024-09-08 18:42:32,635] Trial 87 finished with value: 0.5536892843811245 and parameters: {'n_components': 5}. Best is trial 2 with value: 0.5536892843811245.\n",
      "[I 2024-09-08 18:42:32,676] Trial 88 finished with value: 0.5169815972855477 and parameters: {'n_components': 6}. Best is trial 2 with value: 0.5536892843811245.\n",
      "[I 2024-09-08 18:42:32,733] Trial 89 finished with value: 0.41339168343976207 and parameters: {'n_components': 4}. Best is trial 2 with value: 0.5536892843811245.\n",
      "[I 2024-09-08 18:42:32,769] Trial 90 finished with value: 0.5536892843811245 and parameters: {'n_components': 5}. Best is trial 2 with value: 0.5536892843811245.\n",
      "[I 2024-09-08 18:42:32,800] Trial 91 finished with value: 0.5536892843811245 and parameters: {'n_components': 5}. Best is trial 2 with value: 0.5536892843811245.\n",
      "[I 2024-09-08 18:42:32,840] Trial 92 finished with value: 0.5536892843811245 and parameters: {'n_components': 5}. Best is trial 2 with value: 0.5536892843811245.\n",
      "[I 2024-09-08 18:42:32,879] Trial 93 finished with value: 0.5169815972855477 and parameters: {'n_components': 6}. Best is trial 2 with value: 0.5536892843811245.\n",
      "[I 2024-09-08 18:42:32,924] Trial 94 finished with value: 0.5536892843811245 and parameters: {'n_components': 5}. Best is trial 2 with value: 0.5536892843811245.\n",
      "[I 2024-09-08 18:42:32,961] Trial 95 finished with value: 0.5536892843811245 and parameters: {'n_components': 5}. Best is trial 2 with value: 0.5536892843811245.\n",
      "[I 2024-09-08 18:42:33,003] Trial 96 finished with value: 0.41339168343976207 and parameters: {'n_components': 4}. Best is trial 2 with value: 0.5536892843811245.\n",
      "[I 2024-09-08 18:42:33,055] Trial 97 finished with value: 0.5536892843811245 and parameters: {'n_components': 5}. Best is trial 2 with value: 0.5536892843811245.\n",
      "[I 2024-09-08 18:42:33,100] Trial 98 finished with value: 0.5169815972855477 and parameters: {'n_components': 6}. Best is trial 2 with value: 0.5536892843811245.\n",
      "[I 2024-09-08 18:42:33,149] Trial 99 finished with value: 0.5536892843811245 and parameters: {'n_components': 5}. Best is trial 2 with value: 0.5536892843811245.\n"
     ]
    }
   ],
   "source": [
    "# Optimize using Optuna\n",
    "study_gmm = optuna.create_study(direction='maximize')\n",
    "study_gmm.optimize(gmm_objective, n_trials=100)"
   ]
  },
  {
   "cell_type": "markdown",
   "metadata": {},
   "source": [
    "<u>The optimized GMM results we got are:</u>"
   ]
  },
  {
   "cell_type": "code",
   "execution_count": 58,
   "metadata": {
    "vscode": {
     "languageId": "shellscript"
    }
   },
   "outputs": [
    {
     "name": "stdout",
     "output_type": "stream",
     "text": [
      "Best trial:\n",
      "  Value: 0.5537\n",
      "  Params: \n",
      "    n_components: 5\n"
     ]
    }
   ],
   "source": [
    "print(\"Best trial:\")\n",
    "trial_gmm = study_gmm.best_trial\n",
    "print(f\"  Value: {trial_gmm.value:.4f}\")\n",
    "print(\"  Params: \")\n",
    "for key, value in trial_gmm.params.items():\n",
    "    print(f\"    {key}: {value}\")\n"
   ]
  },
  {
   "cell_type": "markdown",
   "metadata": {},
   "source": [
    "We apply this Optuna-optimized GMM."
   ]
  },
  {
   "cell_type": "markdown",
   "metadata": {},
   "source": [
    "<u>Plot + Silhouette for Optimized GMM:</u>"
   ]
  },
  {
   "cell_type": "code",
   "execution_count": 59,
   "metadata": {
    "vscode": {
     "languageId": "shellscript"
    }
   },
   "outputs": [
    {
     "name": "stdout",
     "output_type": "stream",
     "text": [
      "Optimized Silhouette Score: 0.5537\n"
     ]
    },
    {
     "data": {
      "image/png": "[encoded data removed]",
      "text/plain": [
       "<Figure size 1200x400 with 2 Axes>"
      ]
     },
     "metadata": {},
     "output_type": "display_data"
    },
    {
     "name": "stdout",
     "output_type": "stream",
     "text": [
      "Initial Silhouette Score: 0.4302\n",
      "Optimized Silhouette Score: 0.5537\n",
      "Improvement: 28.71%\n"
     ]
    }
   ],
   "source": [
    "# Apply optimized GMM\n",
    "optimized_n_components = trial_gmm.params['n_components']\n",
    "optimized_gmm, optimized_labels_gmm, optimized_silhouette_gmm = gmm_clustering(optimized_n_components)\n",
    "\n",
    "print(f\"Optimized Silhouette Score: {optimized_silhouette_gmm:.4f}\")\n",
    "plot_silhouette(X_scaled, optimized_labels_gmm)\n",
    "\n",
    "# Compare initial and optimized results\n",
    "print(f\"Initial Silhouette Score: {initial_gmm_silhouette:.4f}\")\n",
    "print(f\"Optimized Silhouette Score: {optimized_silhouette_gmm:.4f}\")\n",
    "print(f\"Improvement: {(optimized_silhouette_gmm - initial_gmm_silhouette) / initial_gmm_silhouette * 100:.2f}%\")"
   ]
  },
  {
   "cell_type": "markdown",
   "metadata": {},
   "source": [
    "### <u>Conclusion:</u> "
   ]
  },
  {
   "cell_type": "markdown",
   "metadata": {},
   "source": [
    "A conclusion for our GMM's optimization process using Optuna."
   ]
  },
  {
   "cell_type": "code",
   "execution_count": 60,
   "metadata": {
    "vscode": {
     "languageId": "shellscript"
    }
   },
   "outputs": [
    {
     "name": "stdout",
     "output_type": "stream",
     "text": [
      "Conclusion:\n",
      "The initial Gaussian Mixture Model with 3 components achieved a silhouette score of 0.4302.\n",
      "After optimization with Optuna, the best number of components was found to be 5, achieving a silhouette score of 0.5537.\n",
      "This represents an improvement of 28.71% in the silhouette score.\n"
     ]
    }
   ],
   "source": [
    "# Conclusion\n",
    "print(\"Conclusion:\")\n",
    "print(f\"The initial Gaussian Mixture Model with {n_components} components achieved a silhouette score of {initial_gmm_silhouette:.4f}.\")\n",
    "print(f\"After optimization with Optuna, the best number of components was found to be {optimized_n_components}, achieving a silhouette score of {optimized_silhouette_gmm:.4f}.\")\n",
    "print(f\"This represents an improvement of {(optimized_silhouette_gmm - initial_gmm_silhouette) / initial_gmm_silhouette * 100:.2f}% in the silhouette score.\")"
   ]
  },
  {
   "cell_type": "markdown",
   "metadata": {},
   "source": [
    "### <u>Visualizations:</u>"
   ]
  },
  {
   "cell_type": "markdown",
   "metadata": {},
   "source": [
    "Let's visualize for the GMM."
   ]
  },
  {
   "cell_type": "code",
   "execution_count": 61,
   "metadata": {
    "vscode": {
     "languageId": "shellscript"
    }
   },
   "outputs": [
    {
     "data": {
      "application/vnd.plotly.v1+json": {
       "config": {
        "plotlyServerURL": "https://plot.ly"
       },
       "data": [
        {
         "mode": "markers",
         "name": "Objective Value",
         "type": "scatter",
         "x": [
          0,
          1,
          2,
          3,
          4,
          5,
          6,
          7,
          8,
          9,
          10,
          11,
          12,
          13,
          14,
          15,
          16,
          17,
          18,
          19,
          20,
          21,
          22,
          23,
          24,
          25,
          26,
          27,
          28,
          29,
          30,
          31,
          32,
          33,
          34,
          35,
          36,
          37,
          38,
          39,
          40,
          41,
          42,
          43,
          44,
          45,
          46,
          47,
          48,
          49,
          50,
          51,
          52,
          53,
          54,
          55,
          56,
          57,
          58,
          59,
          60,
          61,
          62,
          63,
          64,
          65,
          66,
          67,
          68,
          69,
          70,
          71,
          72,
          73,
          74,
          75,
          76,
          77,
          78,
          79,
          80,
          81,
          82,
          83,
          84,
          85,
          86,
          87,
          88,
          89,
          90,
          91,
          92,
          93,
          94,
          95,
          96,
          97,
          98,
          99
         ],
         "y": [
          0.4232815191607955,
          0.37908245581738753,
          0.5536892843811245,
          0.41339168343976207,
          0.5090572558079016,
          0.37908245581738753,
          0.5536892843811245,
          0.5536892843811245,
          0.41339168343976207,
          0.5169815972855477,
          0.4232815191607955,
          0.5090572558079016,
          0.41339168343976207,
          0.5169815972855477,
          0.43018957138806657,
          0.5090572558079016,
          0.5536892843811245,
          0.4153085913962273,
          0.5536892843811245,
          0.43021022756796046,
          0.43018957138806657,
          0.5536892843811245,
          0.5536892843811245,
          0.5169815972855477,
          0.43018957138806657,
          0.5169815972855477,
          0.41339168343976207,
          0.5536892843811245,
          0.5090572558079016,
          0.43021022756796046,
          0.41339168343976207,
          0.5536892843811245,
          0.5169815972855477,
          0.5536892843811245,
          0.41339168343976207,
          0.43018957138806657,
          0.5536892843811245,
          0.37908245581738753,
          0.5169815972855477,
          0.41339168343976207,
          0.5169815972855477,
          0.5536892843811245,
          0.5536892843811245,
          0.41339168343976207,
          0.5536892843811245,
          0.5169815972855477,
          0.41339168343976207,
          0.5090572558079016,
          0.5169815972855477,
          0.5536892843811245,
          0.41339168343976207,
          0.5536892843811245,
          0.5536892843811245,
          0.5169815972855477,
          0.43018957138806657,
          0.5536892843811245,
          0.41339168343976207,
          0.5536892843811245,
          0.5169815972855477,
          0.5090572558079016,
          0.41339168343976207,
          0.5536892843811245,
          0.5536892843811245,
          0.5536892843811245,
          0.4153085913962273,
          0.41339168343976207,
          0.5169815972855477,
          0.5536892843811245,
          0.43018957138806657,
          0.5169815972855477,
          0.41339168343976207,
          0.5536892843811245,
          0.5536892843811245,
          0.5536892843811245,
          0.5169815972855477,
          0.5536892843811245,
          0.5169815972855477,
          0.41339168343976207,
          0.5536892843811245,
          0.4232815191607955,
          0.41339168343976207,
          0.5536892843811245,
          0.5536892843811245,
          0.5169815972855477,
          0.5536892843811245,
          0.41339168343976207,
          0.5536892843811245,
          0.5536892843811245,
          0.5169815972855477,
          0.41339168343976207,
          0.5536892843811245,
          0.5536892843811245,
          0.5536892843811245,
          0.5169815972855477,
          0.5536892843811245,
          0.5536892843811245,
          0.41339168343976207,
          0.5536892843811245,
          0.5169815972855477,
          0.5536892843811245
         ]
        },
        {
         "mode": "lines",
         "name": "Best Value",
         "type": "scatter",
         "x": [
          0,
          1,
          2,
          3,
          4,
          5,
          6,
          7,
          8,
          9,
          10,
          11,
          12,
          13,
          14,
          15,
          16,
          17,
          18,
          19,
          20,
          21,
          22,
          23,
          24,
          25,
          26,
          27,
          28,
          29,
          30,
          31,
          32,
          33,
          34,
          35,
          36,
          37,
          38,
          39,
          40,
          41,
          42,
          43,
          44,
          45,
          46,
          47,
          48,
          49,
          50,
          51,
          52,
          53,
          54,
          55,
          56,
          57,
          58,
          59,
          60,
          61,
          62,
          63,
          64,
          65,
          66,
          67,
          68,
          69,
          70,
          71,
          72,
          73,
          74,
          75,
          76,
          77,
          78,
          79,
          80,
          81,
          82,
          83,
          84,
          85,
          86,
          87,
          88,
          89,
          90,
          91,
          92,
          93,
          94,
          95,
          96,
          97,
          98,
          99
         ],
         "y": [
          0.4232815191607955,
          0.4232815191607955,
          0.5536892843811245,
          0.5536892843811245,
          0.5536892843811245,
          0.5536892843811245,
          0.5536892843811245,
          0.5536892843811245,
          0.5536892843811245,
          0.5536892843811245,
          0.5536892843811245,
          0.5536892843811245,
          0.5536892843811245,
          0.5536892843811245,
          0.5536892843811245,
          0.5536892843811245,
          0.5536892843811245,
          0.5536892843811245,
          0.5536892843811245,
          0.5536892843811245,
          0.5536892843811245,
          0.5536892843811245,
          0.5536892843811245,
          0.5536892843811245,
          0.5536892843811245,
          0.5536892843811245,
          0.5536892843811245,
          0.5536892843811245,
          0.5536892843811245,
          0.5536892843811245,
          0.5536892843811245,
          0.5536892843811245,
          0.5536892843811245,
          0.5536892843811245,
          0.5536892843811245,
          0.5536892843811245,
          0.5536892843811245,
          0.5536892843811245,
          0.5536892843811245,
          0.5536892843811245,
          0.5536892843811245,
          0.5536892843811245,
          0.5536892843811245,
          0.5536892843811245,
          0.5536892843811245,
          0.5536892843811245,
          0.5536892843811245,
          0.5536892843811245,
          0.5536892843811245,
          0.5536892843811245,
          0.5536892843811245,
          0.5536892843811245,
          0.5536892843811245,
          0.5536892843811245,
          0.5536892843811245,
          0.5536892843811245,
          0.5536892843811245,
          0.5536892843811245,
          0.5536892843811245,
          0.5536892843811245,
          0.5536892843811245,
          0.5536892843811245,
          0.5536892843811245,
          0.5536892843811245,
          0.5536892843811245,
          0.5536892843811245,
          0.5536892843811245,
          0.5536892843811245,
          0.5536892843811245,
          0.5536892843811245,
          0.5536892843811245,
          0.5536892843811245,
          0.5536892843811245,
          0.5536892843811245,
          0.5536892843811245,
          0.5536892843811245,
          0.5536892843811245,
          0.5536892843811245,
          0.5536892843811245,
          0.5536892843811245,
          0.5536892843811245,
          0.5536892843811245,
          0.5536892843811245,
          0.5536892843811245,
          0.5536892843811245,
          0.5536892843811245,
          0.5536892843811245,
          0.5536892843811245,
          0.5536892843811245,
          0.5536892843811245,
          0.5536892843811245,
          0.5536892843811245,
          0.5536892843811245,
          0.5536892843811245,
          0.5536892843811245,
          0.5536892843811245,
          0.5536892843811245,
          0.5536892843811245,
          0.5536892843811245,
          0.5536892843811245
         ]
        },
        {
         "marker": {
          "color": "#cccccc"
         },
         "mode": "markers",
         "name": "Infeasible Trial",
         "showlegend": false,
         "type": "scatter",
         "x": [],
         "y": []
        }
       ],
       "layout": {
        "template": {
         "data": {
          "bar": [
           {
            "error_x": {
             "color": "#2a3f5f"
            },
            "error_y": {
             "color": "#2a3f5f"
            },
            "marker": {
             "line": {
              "color": "#E5ECF6",
              "width": 0.5
             },
             "pattern": {
              "fillmode": "overlay",
              "size": 10,
              "solidity": 0.2
             }
            },
            "type": "bar"
           }
          ],
          "barpolar": [
           {
            "marker": {
             "line": {
              "color": "#E5ECF6",
              "width": 0.5
             },
             "pattern": {
              "fillmode": "overlay",
              "size": 10,
              "solidity": 0.2
             }
            },
            "type": "barpolar"
           }
          ],
          "carpet": [
           {
            "aaxis": {
             "endlinecolor": "#2a3f5f",
             "gridcolor": "white",
             "linecolor": "white",
             "minorgridcolor": "white",
             "startlinecolor": "#2a3f5f"
            },
            "baxis": {
             "endlinecolor": "#2a3f5f",
             "gridcolor": "white",
             "linecolor": "white",
             "minorgridcolor": "white",
             "startlinecolor": "#2a3f5f"
            },
            "type": "carpet"
           }
          ],
          "choropleth": [
           {
            "colorbar": {
             "outlinewidth": 0,
             "ticks": ""
            },
            "type": "choropleth"
           }
          ],
          "contour": [
           {
            "colorbar": {
             "outlinewidth": 0,
             "ticks": ""
            },
            "colorscale": [
             [
              0,
              "#0d0887"
             ],
             [
              0.1111111111111111,
              "#46039f"
             ],
             [
              0.2222222222222222,
              "#7201a8"
             ],
             [
              0.3333333333333333,
              "#9c179e"
             ],
             [
              0.4444444444444444,
              "#bd3786"
             ],
             [
              0.5555555555555556,
              "#d8576b"
             ],
             [
              0.6666666666666666,
              "#ed7953"
             ],
             [
              0.7777777777777778,
              "#fb9f3a"
             ],
             [
              0.8888888888888888,
              "#fdca26"
             ],
             [
              1,
              "#f0f921"
             ]
            ],
            "type": "contour"
           }
          ],
          "contourcarpet": [
           {
            "colorbar": {
             "outlinewidth": 0,
             "ticks": ""
            },
            "type": "contourcarpet"
           }
          ],
          "heatmap": [
           {
            "colorbar": {
             "outlinewidth": 0,
             "ticks": ""
            },
            "colorscale": [
             [
              0,
              "#0d0887"
             ],
             [
              0.1111111111111111,
              "#46039f"
             ],
             [
              0.2222222222222222,
              "#7201a8"
             ],
             [
              0.3333333333333333,
              "#9c179e"
             ],
             [
              0.4444444444444444,
              "#bd3786"
             ],
             [
              0.5555555555555556,
              "#d8576b"
             ],
             [
              0.6666666666666666,
              "#ed7953"
             ],
             [
              0.7777777777777778,
              "#fb9f3a"
             ],
             [
              0.8888888888888888,
              "#fdca26"
             ],
             [
              1,
              "#f0f921"
             ]
            ],
            "type": "heatmap"
           }
          ],
          "heatmapgl": [
           {
            "colorbar": {
             "outlinewidth": 0,
             "ticks": ""
            },
            "colorscale": [
             [
              0,
              "#0d0887"
             ],
             [
              0.1111111111111111,
              "#46039f"
             ],
             [
              0.2222222222222222,
              "#7201a8"
             ],
             [
              0.3333333333333333,
              "#9c179e"
             ],
             [
              0.4444444444444444,
              "#bd3786"
             ],
             [
              0.5555555555555556,
              "#d8576b"
             ],
             [
              0.6666666666666666,
              "#ed7953"
             ],
             [
              0.7777777777777778,
              "#fb9f3a"
             ],
             [
              0.8888888888888888,
              "#fdca26"
             ],
             [
              1,
              "#f0f921"
             ]
            ],
            "type": "heatmapgl"
           }
          ],
          "histogram": [
           {
            "marker": {
             "pattern": {
              "fillmode": "overlay",
              "size": 10,
              "solidity": 0.2
             }
            },
            "type": "histogram"
           }
          ],
          "histogram2d": [
           {
            "colorbar": {
             "outlinewidth": 0,
             "ticks": ""
            },
            "colorscale": [
             [
              0,
              "#0d0887"
             ],
             [
              0.1111111111111111,
              "#46039f"
             ],
             [
              0.2222222222222222,
              "#7201a8"
             ],
             [
              0.3333333333333333,
              "#9c179e"
             ],
             [
              0.4444444444444444,
              "#bd3786"
             ],
             [
              0.5555555555555556,
              "#d8576b"
             ],
             [
              0.6666666666666666,
              "#ed7953"
             ],
             [
              0.7777777777777778,
              "#fb9f3a"
             ],
             [
              0.8888888888888888,
              "#fdca26"
             ],
             [
              1,
              "#f0f921"
             ]
            ],
            "type": "histogram2d"
           }
          ],
          "histogram2dcontour": [
           {
            "colorbar": {
             "outlinewidth": 0,
             "ticks": ""
            },
            "colorscale": [
             [
              0,
              "#0d0887"
             ],
             [
              0.1111111111111111,
              "#46039f"
             ],
             [
              0.2222222222222222,
              "#7201a8"
             ],
             [
              0.3333333333333333,
              "#9c179e"
             ],
             [
              0.4444444444444444,
              "#bd3786"
             ],
             [
              0.5555555555555556,
              "#d8576b"
             ],
             [
              0.6666666666666666,
              "#ed7953"
             ],
             [
              0.7777777777777778,
              "#fb9f3a"
             ],
             [
              0.8888888888888888,
              "#fdca26"
             ],
             [
              1,
              "#f0f921"
             ]
            ],
            "type": "histogram2dcontour"
           }
          ],
          "mesh3d": [
           {
            "colorbar": {
             "outlinewidth": 0,
             "ticks": ""
            },
            "type": "mesh3d"
           }
          ],
          "parcoords": [
           {
            "line": {
             "colorbar": {
              "outlinewidth": 0,
              "ticks": ""
             }
            },
            "type": "parcoords"
           }
          ],
          "pie": [
           {
            "automargin": true,
            "type": "pie"
           }
          ],
          "scatter": [
           {
            "fillpattern": {
             "fillmode": "overlay",
             "size": 10,
             "solidity": 0.2
            },
            "type": "scatter"
           }
          ],
          "scatter3d": [
           {
            "line": {
             "colorbar": {
              "outlinewidth": 0,
              "ticks": ""
             }
            },
            "marker": {
             "colorbar": {
              "outlinewidth": 0,
              "ticks": ""
             }
            },
            "type": "scatter3d"
           }
          ],
          "scattercarpet": [
           {
            "marker": {
             "colorbar": {
              "outlinewidth": 0,
              "ticks": ""
             }
            },
            "type": "scattercarpet"
           }
          ],
          "scattergeo": [
           {
            "marker": {
             "colorbar": {
              "outlinewidth": 0,
              "ticks": ""
             }
            },
            "type": "scattergeo"
           }
          ],
          "scattergl": [
           {
            "marker": {
             "colorbar": {
              "outlinewidth": 0,
              "ticks": ""
             }
            },
            "type": "scattergl"
           }
          ],
          "scattermapbox": [
           {
            "marker": {
             "colorbar": {
              "outlinewidth": 0,
              "ticks": ""
             }
            },
            "type": "scattermapbox"
           }
          ],
          "scatterpolar": [
           {
            "marker": {
             "colorbar": {
              "outlinewidth": 0,
              "ticks": ""
             }
            },
            "type": "scatterpolar"
           }
          ],
          "scatterpolargl": [
           {
            "marker": {
             "colorbar": {
              "outlinewidth": 0,
              "ticks": ""
             }
            },
            "type": "scatterpolargl"
           }
          ],
          "scatterternary": [
           {
            "marker": {
             "colorbar": {
              "outlinewidth": 0,
              "ticks": ""
             }
            },
            "type": "scatterternary"
           }
          ],
          "surface": [
           {
            "colorbar": {
             "outlinewidth": 0,
             "ticks": ""
            },
            "colorscale": [
             [
              0,
              "#0d0887"
             ],
             [
              0.1111111111111111,
              "#46039f"
             ],
             [
              0.2222222222222222,
              "#7201a8"
             ],
             [
              0.3333333333333333,
              "#9c179e"
             ],
             [
              0.4444444444444444,
              "#bd3786"
             ],
             [
              0.5555555555555556,
              "#d8576b"
             ],
             [
              0.6666666666666666,
              "#ed7953"
             ],
             [
              0.7777777777777778,
              "#fb9f3a"
             ],
             [
              0.8888888888888888,
              "#fdca26"
             ],
             [
              1,
              "#f0f921"
             ]
            ],
            "type": "surface"
           }
          ],
          "table": [
           {
            "cells": {
             "fill": {
              "color": "#EBF0F8"
             },
             "line": {
              "color": "white"
             }
            },
            "header": {
             "fill": {
              "color": "#C8D4E3"
             },
             "line": {
              "color": "white"
             }
            },
            "type": "table"
           }
          ]
         },
         "layout": {
          "annotationdefaults": {
           "arrowcolor": "#2a3f5f",
           "arrowhead": 0,
           "arrowwidth": 1
          },
          "autotypenumbers": "strict",
          "coloraxis": {
           "colorbar": {
            "outlinewidth": 0,
            "ticks": ""
           }
          },
          "colorscale": {
           "diverging": [
            [
             0,
             "#8e0152"
            ],
            [
             0.1,
             "#c51b7d"
            ],
            [
             0.2,
             "#de77ae"
            ],
            [
             0.3,
             "#f1b6da"
            ],
            [
             0.4,
             "#fde0ef"
            ],
            [
             0.5,
             "#f7f7f7"
            ],
            [
             0.6,
             "#e6f5d0"
            ],
            [
             0.7,
             "#b8e186"
            ],
            [
             0.8,
             "#7fbc41"
            ],
            [
             0.9,
             "#4d9221"
            ],
            [
             1,
             "#276419"
            ]
           ],
           "sequential": [
            [
             0,
             "#0d0887"
            ],
            [
             0.1111111111111111,
             "#46039f"
            ],
            [
             0.2222222222222222,
             "#7201a8"
            ],
            [
             0.3333333333333333,
             "#9c179e"
            ],
            [
             0.4444444444444444,
             "#bd3786"
            ],
            [
             0.5555555555555556,
             "#d8576b"
            ],
            [
             0.6666666666666666,
             "#ed7953"
            ],
            [
             0.7777777777777778,
             "#fb9f3a"
            ],
            [
             0.8888888888888888,
             "#fdca26"
            ],
            [
             1,
             "#f0f921"
            ]
           ],
           "sequentialminus": [
            [
             0,
             "#0d0887"
            ],
            [
             0.1111111111111111,
             "#46039f"
            ],
            [
             0.2222222222222222,
             "#7201a8"
            ],
            [
             0.3333333333333333,
             "#9c179e"
            ],
            [
             0.4444444444444444,
             "#bd3786"
            ],
            [
             0.5555555555555556,
             "#d8576b"
            ],
            [
             0.6666666666666666,
             "#ed7953"
            ],
            [
             0.7777777777777778,
             "#fb9f3a"
            ],
            [
             0.8888888888888888,
             "#fdca26"
            ],
            [
             1,
             "#f0f921"
            ]
           ]
          },
          "colorway": [
           "#636efa",
           "#EF553B",
           "#00cc96",
           "#ab63fa",
           "#FFA15A",
           "#19d3f3",
           "#FF6692",
           "#B6E880",
           "#FF97FF",
           "#FECB52"
          ],
          "font": {
           "color": "#2a3f5f"
          },
          "geo": {
           "bgcolor": "white",
           "lakecolor": "white",
           "landcolor": "#E5ECF6",
           "showlakes": true,
           "showland": true,
           "subunitcolor": "white"
          },
          "hoverlabel": {
           "align": "left"
          },
          "hovermode": "closest",
          "mapbox": {
           "style": "light"
          },
          "paper_bgcolor": "white",
          "plot_bgcolor": "#E5ECF6",
          "polar": {
           "angularaxis": {
            "gridcolor": "white",
            "linecolor": "white",
            "ticks": ""
           },
           "bgcolor": "#E5ECF6",
           "radialaxis": {
            "gridcolor": "white",
            "linecolor": "white",
            "ticks": ""
           }
          },
          "scene": {
           "xaxis": {
            "backgroundcolor": "#E5ECF6",
            "gridcolor": "white",
            "gridwidth": 2,
            "linecolor": "white",
            "showbackground": true,
            "ticks": "",
            "zerolinecolor": "white"
           },
           "yaxis": {
            "backgroundcolor": "#E5ECF6",
            "gridcolor": "white",
            "gridwidth": 2,
            "linecolor": "white",
            "showbackground": true,
            "ticks": "",
            "zerolinecolor": "white"
           },
           "zaxis": {
            "backgroundcolor": "#E5ECF6",
            "gridcolor": "white",
            "gridwidth": 2,
            "linecolor": "white",
            "showbackground": true,
            "ticks": "",
            "zerolinecolor": "white"
           }
          },
          "shapedefaults": {
           "line": {
            "color": "#2a3f5f"
           }
          },
          "ternary": {
           "aaxis": {
            "gridcolor": "white",
            "linecolor": "white",
            "ticks": ""
           },
           "baxis": {
            "gridcolor": "white",
            "linecolor": "white",
            "ticks": ""
           },
           "bgcolor": "#E5ECF6",
           "caxis": {
            "gridcolor": "white",
            "linecolor": "white",
            "ticks": ""
           }
          },
          "title": {
           "x": 0.05
          },
          "xaxis": {
           "automargin": true,
           "gridcolor": "white",
           "linecolor": "white",
           "ticks": "",
           "title": {
            "standoff": 15
           },
           "zerolinecolor": "white",
           "zerolinewidth": 2
          },
          "yaxis": {
           "automargin": true,
           "gridcolor": "white",
           "linecolor": "white",
           "ticks": "",
           "title": {
            "standoff": 15
           },
           "zerolinecolor": "white",
           "zerolinewidth": 2
          }
         }
        },
        "title": {
         "text": "Optimization History Plot"
        },
        "xaxis": {
         "title": {
          "text": "Trial"
         }
        },
        "yaxis": {
         "title": {
          "text": "Objective Value"
         }
        }
       }
      }
     },
     "metadata": {},
     "output_type": "display_data"
    }
   ],
   "source": [
    "# Plot optimization history\n",
    "history_fig = plot_optimization_history(study_gmm)\n",
    "history_fig.show()"
   ]
  },
  {
   "cell_type": "markdown",
   "metadata": {},
   "source": [
    "This shows the history of the silhouette value over the trials.  "
   ]
  },
  {
   "cell_type": "code",
   "execution_count": 62,
   "metadata": {
    "vscode": {
     "languageId": "shellscript"
    }
   },
   "outputs": [
    {
     "data": {
      "application/vnd.plotly.v1+json": {
       "config": {
        "plotlyServerURL": "https://plot.ly"
       },
       "data": [
        {
         "dimensions": [
          {
           "label": "Objective Value",
           "range": [
            0.37908245581738753,
            0.5536892843811245
           ],
           "values": [
            0.4232815191607955,
            0.37908245581738753,
            0.5536892843811245,
            0.41339168343976207,
            0.5090572558079016,
            0.37908245581738753,
            0.5536892843811245,
            0.5536892843811245,
            0.41339168343976207,
            0.5169815972855477,
            0.4232815191607955,
            0.5090572558079016,
            0.41339168343976207,
            0.5169815972855477,
            0.43018957138806657,
            0.5090572558079016,
            0.5536892843811245,
            0.4153085913962273,
            0.5536892843811245,
            0.43021022756796046,
            0.43018957138806657,
            0.5536892843811245,
            0.5536892843811245,
            0.5169815972855477,
            0.43018957138806657,
            0.5169815972855477,
            0.41339168343976207,
            0.5536892843811245,
            0.5090572558079016,
            0.43021022756796046,
            0.41339168343976207,
            0.5536892843811245,
            0.5169815972855477,
            0.5536892843811245,
            0.41339168343976207,
            0.43018957138806657,
            0.5536892843811245,
            0.37908245581738753,
            0.5169815972855477,
            0.41339168343976207,
            0.5169815972855477,
            0.5536892843811245,
            0.5536892843811245,
            0.41339168343976207,
            0.5536892843811245,
            0.5169815972855477,
            0.41339168343976207,
            0.5090572558079016,
            0.5169815972855477,
            0.5536892843811245,
            0.41339168343976207,
            0.5536892843811245,
            0.5536892843811245,
            0.5169815972855477,
            0.43018957138806657,
            0.5536892843811245,
            0.41339168343976207,
            0.5536892843811245,
            0.5169815972855477,
            0.5090572558079016,
            0.41339168343976207,
            0.5536892843811245,
            0.5536892843811245,
            0.5536892843811245,
            0.4153085913962273,
            0.41339168343976207,
            0.5169815972855477,
            0.5536892843811245,
            0.43018957138806657,
            0.5169815972855477,
            0.41339168343976207,
            0.5536892843811245,
            0.5536892843811245,
            0.5536892843811245,
            0.5169815972855477,
            0.5536892843811245,
            0.5169815972855477,
            0.41339168343976207,
            0.5536892843811245,
            0.4232815191607955,
            0.41339168343976207,
            0.5536892843811245,
            0.5536892843811245,
            0.5169815972855477,
            0.5536892843811245,
            0.41339168343976207,
            0.5536892843811245,
            0.5536892843811245,
            0.5169815972855477,
            0.41339168343976207,
            0.5536892843811245,
            0.5536892843811245,
            0.5536892843811245,
            0.5169815972855477,
            0.5536892843811245,
            0.5536892843811245,
            0.41339168343976207,
            0.5536892843811245,
            0.5169815972855477,
            0.5536892843811245
           ]
          },
          {
           "label": "n_components",
           "range": [
            2,
            10
           ],
           "values": [
            9,
            2,
            5,
            4,
            7,
            2,
            5,
            5,
            4,
            6,
            9,
            7,
            4,
            6,
            3,
            7,
            5,
            10,
            5,
            8,
            3,
            5,
            5,
            6,
            3,
            6,
            4,
            5,
            7,
            8,
            4,
            5,
            6,
            5,
            4,
            3,
            5,
            2,
            6,
            4,
            6,
            5,
            5,
            4,
            5,
            6,
            4,
            7,
            6,
            5,
            4,
            5,
            5,
            6,
            3,
            5,
            4,
            5,
            6,
            7,
            4,
            5,
            5,
            5,
            10,
            4,
            6,
            5,
            3,
            6,
            4,
            5,
            5,
            5,
            6,
            5,
            6,
            4,
            5,
            9,
            4,
            5,
            5,
            6,
            5,
            4,
            5,
            5,
            6,
            4,
            5,
            5,
            5,
            6,
            5,
            5,
            4,
            5,
            6,
            5
           ]
          }
         ],
         "labelangle": 30,
         "labelside": "bottom",
         "line": {
          "color": [
           0.4232815191607955,
           0.37908245581738753,
           0.5536892843811245,
           0.41339168343976207,
           0.5090572558079016,
           0.37908245581738753,
           0.5536892843811245,
           0.5536892843811245,
           0.41339168343976207,
           0.5169815972855477,
           0.4232815191607955,
           0.5090572558079016,
           0.41339168343976207,
           0.5169815972855477,
           0.43018957138806657,
           0.5090572558079016,
           0.5536892843811245,
           0.4153085913962273,
           0.5536892843811245,
           0.43021022756796046,
           0.43018957138806657,
           0.5536892843811245,
           0.5536892843811245,
           0.5169815972855477,
           0.43018957138806657,
           0.5169815972855477,
           0.41339168343976207,
           0.5536892843811245,
           0.5090572558079016,
           0.43021022756796046,
           0.41339168343976207,
           0.5536892843811245,
           0.5169815972855477,
           0.5536892843811245,
           0.41339168343976207,
           0.43018957138806657,
           0.5536892843811245,
           0.37908245581738753,
           0.5169815972855477,
           0.41339168343976207,
           0.5169815972855477,
           0.5536892843811245,
           0.5536892843811245,
           0.41339168343976207,
           0.5536892843811245,
           0.5169815972855477,
           0.41339168343976207,
           0.5090572558079016,
           0.5169815972855477,
           0.5536892843811245,
           0.41339168343976207,
           0.5536892843811245,
           0.5536892843811245,
           0.5169815972855477,
           0.43018957138806657,
           0.5536892843811245,
           0.41339168343976207,
           0.5536892843811245,
           0.5169815972855477,
           0.5090572558079016,
           0.41339168343976207,
           0.5536892843811245,
           0.5536892843811245,
           0.5536892843811245,
           0.4153085913962273,
           0.41339168343976207,
           0.5169815972855477,
           0.5536892843811245,
           0.43018957138806657,
           0.5169815972855477,
           0.41339168343976207,
           0.5536892843811245,
           0.5536892843811245,
           0.5536892843811245,
           0.5169815972855477,
           0.5536892843811245,
           0.5169815972855477,
           0.41339168343976207,
           0.5536892843811245,
           0.4232815191607955,
           0.41339168343976207,
           0.5536892843811245,
           0.5536892843811245,
           0.5169815972855477,
           0.5536892843811245,
           0.41339168343976207,
           0.5536892843811245,
           0.5536892843811245,
           0.5169815972855477,
           0.41339168343976207,
           0.5536892843811245,
           0.5536892843811245,
           0.5536892843811245,
           0.5169815972855477,
           0.5536892843811245,
           0.5536892843811245,
           0.41339168343976207,
           0.5536892843811245,
           0.5169815972855477,
           0.5536892843811245
          ],
          "colorbar": {
           "title": {
            "text": "Objective Value"
           }
          },
          "colorscale": [
           [
            0,
            "rgb(247,251,255)"
           ],
           [
            0.125,
            "rgb(222,235,247)"
           ],
           [
            0.25,
            "rgb(198,219,239)"
           ],
           [
            0.375,
            "rgb(158,202,225)"
           ],
           [
            0.5,
            "rgb(107,174,214)"
           ],
           [
            0.625,
            "rgb(66,146,198)"
           ],
           [
            0.75,
            "rgb(33,113,181)"
           ],
           [
            0.875,
            "rgb(8,81,156)"
           ],
           [
            1,
            "rgb(8,48,107)"
           ]
          ],
          "reversescale": false,
          "showscale": true
         },
         "type": "parcoords"
        }
       ],
       "layout": {
        "template": {
         "data": {
          "bar": [
           {
            "error_x": {
             "color": "#2a3f5f"
            },
            "error_y": {
             "color": "#2a3f5f"
            },
            "marker": {
             "line": {
              "color": "#E5ECF6",
              "width": 0.5
             },
             "pattern": {
              "fillmode": "overlay",
              "size": 10,
              "solidity": 0.2
             }
            },
            "type": "bar"
           }
          ],
          "barpolar": [
           {
            "marker": {
             "line": {
              "color": "#E5ECF6",
              "width": 0.5
             },
             "pattern": {
              "fillmode": "overlay",
              "size": 10,
              "solidity": 0.2
             }
            },
            "type": "barpolar"
           }
          ],
          "carpet": [
           {
            "aaxis": {
             "endlinecolor": "#2a3f5f",
             "gridcolor": "white",
             "linecolor": "white",
             "minorgridcolor": "white",
             "startlinecolor": "#2a3f5f"
            },
            "baxis": {
             "endlinecolor": "#2a3f5f",
             "gridcolor": "white",
             "linecolor": "white",
             "minorgridcolor": "white",
             "startlinecolor": "#2a3f5f"
            },
            "type": "carpet"
           }
          ],
          "choropleth": [
           {
            "colorbar": {
             "outlinewidth": 0,
             "ticks": ""
            },
            "type": "choropleth"
           }
          ],
          "contour": [
           {
            "colorbar": {
             "outlinewidth": 0,
             "ticks": ""
            },
            "colorscale": [
             [
              0,
              "#0d0887"
             ],
             [
              0.1111111111111111,
              "#46039f"
             ],
             [
              0.2222222222222222,
              "#7201a8"
             ],
             [
              0.3333333333333333,
              "#9c179e"
             ],
             [
              0.4444444444444444,
              "#bd3786"
             ],
             [
              0.5555555555555556,
              "#d8576b"
             ],
             [
              0.6666666666666666,
              "#ed7953"
             ],
             [
              0.7777777777777778,
              "#fb9f3a"
             ],
             [
              0.8888888888888888,
              "#fdca26"
             ],
             [
              1,
              "#f0f921"
             ]
            ],
            "type": "contour"
           }
          ],
          "contourcarpet": [
           {
            "colorbar": {
             "outlinewidth": 0,
             "ticks": ""
            },
            "type": "contourcarpet"
           }
          ],
          "heatmap": [
           {
            "colorbar": {
             "outlinewidth": 0,
             "ticks": ""
            },
            "colorscale": [
             [
              0,
              "#0d0887"
             ],
             [
              0.1111111111111111,
              "#46039f"
             ],
             [
              0.2222222222222222,
              "#7201a8"
             ],
             [
              0.3333333333333333,
              "#9c179e"
             ],
             [
              0.4444444444444444,
              "#bd3786"
             ],
             [
              0.5555555555555556,
              "#d8576b"
             ],
             [
              0.6666666666666666,
              "#ed7953"
             ],
             [
              0.7777777777777778,
              "#fb9f3a"
             ],
             [
              0.8888888888888888,
              "#fdca26"
             ],
             [
              1,
              "#f0f921"
             ]
            ],
            "type": "heatmap"
           }
          ],
          "heatmapgl": [
           {
            "colorbar": {
             "outlinewidth": 0,
             "ticks": ""
            },
            "colorscale": [
             [
              0,
              "#0d0887"
             ],
             [
              0.1111111111111111,
              "#46039f"
             ],
             [
              0.2222222222222222,
              "#7201a8"
             ],
             [
              0.3333333333333333,
              "#9c179e"
             ],
             [
              0.4444444444444444,
              "#bd3786"
             ],
             [
              0.5555555555555556,
              "#d8576b"
             ],
             [
              0.6666666666666666,
              "#ed7953"
             ],
             [
              0.7777777777777778,
              "#fb9f3a"
             ],
             [
              0.8888888888888888,
              "#fdca26"
             ],
             [
              1,
              "#f0f921"
             ]
            ],
            "type": "heatmapgl"
           }
          ],
          "histogram": [
           {
            "marker": {
             "pattern": {
              "fillmode": "overlay",
              "size": 10,
              "solidity": 0.2
             }
            },
            "type": "histogram"
           }
          ],
          "histogram2d": [
           {
            "colorbar": {
             "outlinewidth": 0,
             "ticks": ""
            },
            "colorscale": [
             [
              0,
              "#0d0887"
             ],
             [
              0.1111111111111111,
              "#46039f"
             ],
             [
              0.2222222222222222,
              "#7201a8"
             ],
             [
              0.3333333333333333,
              "#9c179e"
             ],
             [
              0.4444444444444444,
              "#bd3786"
             ],
             [
              0.5555555555555556,
              "#d8576b"
             ],
             [
              0.6666666666666666,
              "#ed7953"
             ],
             [
              0.7777777777777778,
              "#fb9f3a"
             ],
             [
              0.8888888888888888,
              "#fdca26"
             ],
             [
              1,
              "#f0f921"
             ]
            ],
            "type": "histogram2d"
           }
          ],
          "histogram2dcontour": [
           {
            "colorbar": {
             "outlinewidth": 0,
             "ticks": ""
            },
            "colorscale": [
             [
              0,
              "#0d0887"
             ],
             [
              0.1111111111111111,
              "#46039f"
             ],
             [
              0.2222222222222222,
              "#7201a8"
             ],
             [
              0.3333333333333333,
              "#9c179e"
             ],
             [
              0.4444444444444444,
              "#bd3786"
             ],
             [
              0.5555555555555556,
              "#d8576b"
             ],
             [
              0.6666666666666666,
              "#ed7953"
             ],
             [
              0.7777777777777778,
              "#fb9f3a"
             ],
             [
              0.8888888888888888,
              "#fdca26"
             ],
             [
              1,
              "#f0f921"
             ]
            ],
            "type": "histogram2dcontour"
           }
          ],
          "mesh3d": [
           {
            "colorbar": {
             "outlinewidth": 0,
             "ticks": ""
            },
            "type": "mesh3d"
           }
          ],
          "parcoords": [
           {
            "line": {
             "colorbar": {
              "outlinewidth": 0,
              "ticks": ""
             }
            },
            "type": "parcoords"
           }
          ],
          "pie": [
           {
            "automargin": true,
            "type": "pie"
           }
          ],
          "scatter": [
           {
            "fillpattern": {
             "fillmode": "overlay",
             "size": 10,
             "solidity": 0.2
            },
            "type": "scatter"
           }
          ],
          "scatter3d": [
           {
            "line": {
             "colorbar": {
              "outlinewidth": 0,
              "ticks": ""
             }
            },
            "marker": {
             "colorbar": {
              "outlinewidth": 0,
              "ticks": ""
             }
            },
            "type": "scatter3d"
           }
          ],
          "scattercarpet": [
           {
            "marker": {
             "colorbar": {
              "outlinewidth": 0,
              "ticks": ""
             }
            },
            "type": "scattercarpet"
           }
          ],
          "scattergeo": [
           {
            "marker": {
             "colorbar": {
              "outlinewidth": 0,
              "ticks": ""
             }
            },
            "type": "scattergeo"
           }
          ],
          "scattergl": [
           {
            "marker": {
             "colorbar": {
              "outlinewidth": 0,
              "ticks": ""
             }
            },
            "type": "scattergl"
           }
          ],
          "scattermapbox": [
           {
            "marker": {
             "colorbar": {
              "outlinewidth": 0,
              "ticks": ""
             }
            },
            "type": "scattermapbox"
           }
          ],
          "scatterpolar": [
           {
            "marker": {
             "colorbar": {
              "outlinewidth": 0,
              "ticks": ""
             }
            },
            "type": "scatterpolar"
           }
          ],
          "scatterpolargl": [
           {
            "marker": {
             "colorbar": {
              "outlinewidth": 0,
              "ticks": ""
             }
            },
            "type": "scatterpolargl"
           }
          ],
          "scatterternary": [
           {
            "marker": {
             "colorbar": {
              "outlinewidth": 0,
              "ticks": ""
             }
            },
            "type": "scatterternary"
           }
          ],
          "surface": [
           {
            "colorbar": {
             "outlinewidth": 0,
             "ticks": ""
            },
            "colorscale": [
             [
              0,
              "#0d0887"
             ],
             [
              0.1111111111111111,
              "#46039f"
             ],
             [
              0.2222222222222222,
              "#7201a8"
             ],
             [
              0.3333333333333333,
              "#9c179e"
             ],
             [
              0.4444444444444444,
              "#bd3786"
             ],
             [
              0.5555555555555556,
              "#d8576b"
             ],
             [
              0.6666666666666666,
              "#ed7953"
             ],
             [
              0.7777777777777778,
              "#fb9f3a"
             ],
             [
              0.8888888888888888,
              "#fdca26"
             ],
             [
              1,
              "#f0f921"
             ]
            ],
            "type": "surface"
           }
          ],
          "table": [
           {
            "cells": {
             "fill": {
              "color": "#EBF0F8"
             },
             "line": {
              "color": "white"
             }
            },
            "header": {
             "fill": {
              "color": "#C8D4E3"
             },
             "line": {
              "color": "white"
             }
            },
            "type": "table"
           }
          ]
         },
         "layout": {
          "annotationdefaults": {
           "arrowcolor": "#2a3f5f",
           "arrowhead": 0,
           "arrowwidth": 1
          },
          "autotypenumbers": "strict",
          "coloraxis": {
           "colorbar": {
            "outlinewidth": 0,
            "ticks": ""
           }
          },
          "colorscale": {
           "diverging": [
            [
             0,
             "#8e0152"
            ],
            [
             0.1,
             "#c51b7d"
            ],
            [
             0.2,
             "#de77ae"
            ],
            [
             0.3,
             "#f1b6da"
            ],
            [
             0.4,
             "#fde0ef"
            ],
            [
             0.5,
             "#f7f7f7"
            ],
            [
             0.6,
             "#e6f5d0"
            ],
            [
             0.7,
             "#b8e186"
            ],
            [
             0.8,
             "#7fbc41"
            ],
            [
             0.9,
             "#4d9221"
            ],
            [
             1,
             "#276419"
            ]
           ],
           "sequential": [
            [
             0,
             "#0d0887"
            ],
            [
             0.1111111111111111,
             "#46039f"
            ],
            [
             0.2222222222222222,
             "#7201a8"
            ],
            [
             0.3333333333333333,
             "#9c179e"
            ],
            [
             0.4444444444444444,
             "#bd3786"
            ],
            [
             0.5555555555555556,
             "#d8576b"
            ],
            [
             0.6666666666666666,
             "#ed7953"
            ],
            [
             0.7777777777777778,
             "#fb9f3a"
            ],
            [
             0.8888888888888888,
             "#fdca26"
            ],
            [
             1,
             "#f0f921"
            ]
           ],
           "sequentialminus": [
            [
             0,
             "#0d0887"
            ],
            [
             0.1111111111111111,
             "#46039f"
            ],
            [
             0.2222222222222222,
             "#7201a8"
            ],
            [
             0.3333333333333333,
             "#9c179e"
            ],
            [
             0.4444444444444444,
             "#bd3786"
            ],
            [
             0.5555555555555556,
             "#d8576b"
            ],
            [
             0.6666666666666666,
             "#ed7953"
            ],
            [
             0.7777777777777778,
             "#fb9f3a"
            ],
            [
             0.8888888888888888,
             "#fdca26"
            ],
            [
             1,
             "#f0f921"
            ]
           ]
          },
          "colorway": [
           "#636efa",
           "#EF553B",
           "#00cc96",
           "#ab63fa",
           "#FFA15A",
           "#19d3f3",
           "#FF6692",
           "#B6E880",
           "#FF97FF",
           "#FECB52"
          ],
          "font": {
           "color": "#2a3f5f"
          },
          "geo": {
           "bgcolor": "white",
           "lakecolor": "white",
           "landcolor": "#E5ECF6",
           "showlakes": true,
           "showland": true,
           "subunitcolor": "white"
          },
          "hoverlabel": {
           "align": "left"
          },
          "hovermode": "closest",
          "mapbox": {
           "style": "light"
          },
          "paper_bgcolor": "white",
          "plot_bgcolor": "#E5ECF6",
          "polar": {
           "angularaxis": {
            "gridcolor": "white",
            "linecolor": "white",
            "ticks": ""
           },
           "bgcolor": "#E5ECF6",
           "radialaxis": {
            "gridcolor": "white",
            "linecolor": "white",
            "ticks": ""
           }
          },
          "scene": {
           "xaxis": {
            "backgroundcolor": "#E5ECF6",
            "gridcolor": "white",
            "gridwidth": 2,
            "linecolor": "white",
            "showbackground": true,
            "ticks": "",
            "zerolinecolor": "white"
           },
           "yaxis": {
            "backgroundcolor": "#E5ECF6",
            "gridcolor": "white",
            "gridwidth": 2,
            "linecolor": "white",
            "showbackground": true,
            "ticks": "",
            "zerolinecolor": "white"
           },
           "zaxis": {
            "backgroundcolor": "#E5ECF6",
            "gridcolor": "white",
            "gridwidth": 2,
            "linecolor": "white",
            "showbackground": true,
            "ticks": "",
            "zerolinecolor": "white"
           }
          },
          "shapedefaults": {
           "line": {
            "color": "#2a3f5f"
           }
          },
          "ternary": {
           "aaxis": {
            "gridcolor": "white",
            "linecolor": "white",
            "ticks": ""
           },
           "baxis": {
            "gridcolor": "white",
            "linecolor": "white",
            "ticks": ""
           },
           "bgcolor": "#E5ECF6",
           "caxis": {
            "gridcolor": "white",
            "linecolor": "white",
            "ticks": ""
           }
          },
          "title": {
           "x": 0.05
          },
          "xaxis": {
           "automargin": true,
           "gridcolor": "white",
           "linecolor": "white",
           "ticks": "",
           "title": {
            "standoff": 15
           },
           "zerolinecolor": "white",
           "zerolinewidth": 2
          },
          "yaxis": {
           "automargin": true,
           "gridcolor": "white",
           "linecolor": "white",
           "ticks": "",
           "title": {
            "standoff": 15
           },
           "zerolinecolor": "white",
           "zerolinewidth": 2
          }
         }
        },
        "title": {
         "text": "Parallel Coordinate Plot"
        }
       }
      }
     },
     "metadata": {},
     "output_type": "display_data"
    }
   ],
   "source": [
    "# Plot parallel coordinate plot of the optimization results\n",
    "parallel_fig = plot_parallel_coordinate(study_gmm)\n",
    "parallel_fig.show()"
   ]
  },
  {
   "cell_type": "markdown",
   "metadata": {},
   "source": [
    "Here we can see the correlations between the different n_components values and the silhouette values. "
   ]
  },
  {
   "cell_type": "markdown",
   "metadata": {},
   "source": [
    "Now we want to check another measure for the performence of the clustering. \n",
    "\n",
    "This time, we will use log-likelihood which indicates the fit of the model to the data. The higher the log-likelihood - the better the fit."
   ]
  },
  {
   "cell_type": "code",
   "execution_count": 63,
   "metadata": {
    "vscode": {
     "languageId": "shellscript"
    }
   },
   "outputs": [
    {
     "data": {
      "image/png": "[encoded data removed]",
      "text/plain": [
       "<Figure size 800x500 with 1 Axes>"
      ]
     },
     "metadata": {},
     "output_type": "display_data"
    }
   ],
   "source": [
    "# Elbow method \n",
    "log_likelihoods = [] \n",
    "\n",
    "for i in range(1, 11):\n",
    "    gmm = GaussianMixture(n_components=i, random_state=42)\n",
    "    gmm.fit(X_scaled)  \n",
    "    log_likelihoods.append(gmm.score(X_scaled))  \n",
    "\n",
    "plt.figure(figsize=(8, 5))\n",
    "plt.plot(range(1, 11), log_likelihoods, marker='o')  \n",
    "plt.title('Elbow Method')\n",
    "plt.xlabel('Number of Components')  \n",
    "plt.ylabel('Log Likelihood')  \n",
    "plt.xticks(range(1, 11))\n",
    "plt.grid()\n",
    "plt.show()"
   ]
  },
  {
   "cell_type": "markdown",
   "metadata": {},
   "source": [
    "Here we can see that the log-likelihood increase as the number of components increase. \n",
    "\n",
    "However, the slope becomes less significant as we pass the n_components=5, another indicator for the optimality of 5 clusters for GMM. "
   ]
  },
  {
   "cell_type": "markdown",
   "metadata": {},
   "source": [
    "--------------"
   ]
  },
  {
   "cell_type": "markdown",
   "metadata": {},
   "source": [
    "### <u>Final Summary:</u> "
   ]
  },
  {
   "cell_type": "markdown",
   "metadata": {},
   "source": [
    "<u>The final sammary for both models:</u>"
   ]
  },
  {
   "cell_type": "code",
   "execution_count": 64,
   "metadata": {
    "vscode": {
     "languageId": "shellscript"
    }
   },
   "outputs": [
    {
     "name": "stdout",
     "output_type": "stream",
     "text": [
      "Final Conclusion:\n",
      "For the KMeans model, the initial silhouette score was 0.4666, the final silhouette score was 0.5547, and the improvement was 18.88%.\n",
      "For the GMM model, the initial silhouette score was 0.4302, the final silhouette score was 0.5537, and the improvement was 28.71%.\n"
     ]
    }
   ],
   "source": [
    "print(\"Final Conclusion:\")\n",
    "print(f\"For the KMeans model, the initial silhouette score was {initial_kmeans_silhouette:.4f}, the final silhouette score was {optimized_kmeans_silhouette:.4f}, and the improvement was {(optimized_kmeans_silhouette - initial_kmeans_silhouette) / initial_kmeans_silhouette * 100:.2f}%.\")\n",
    "print(f\"For the GMM model, the initial silhouette score was {initial_gmm_silhouette:.4f}, the final silhouette score was {optimized_silhouette_gmm:.4f}, and the improvement was {(optimized_silhouette_gmm - initial_gmm_silhouette) / initial_gmm_silhouette * 100:.2f}%.\")"
   ]
  },
  {
   "cell_type": "markdown",
   "metadata": {},
   "source": [
    "**The End!**"
   ]
  },
  {
   "cell_type": "markdown",
   "metadata": {},
   "source": [
    "--------"
   ]
  }
 ],
 "metadata": {
  "kernelspec": {
   "display_name": "Python 3",
   "language": "python",
   "name": "python3"
  },
  "language_info": {
   "codemirror_mode": {
    "name": "ipython",
    "version": 3
   },
   "file_extension": ".py",
   "mimetype": "text/x-python",
   "name": "python",
   "nbconvert_exporter": "python",
   "pygments_lexer": "ipython3",
   "version": "3.12.0"
  }
 },
 "nbformat": 4,
 "nbformat_minor": 2
}
